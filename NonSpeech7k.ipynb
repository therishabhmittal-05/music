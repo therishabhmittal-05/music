{
  "metadata": {
    "kernelspec": {
      "name": "python3",
      "display_name": "Python 3",
      "language": "python"
    },
    "language_info": {
      "name": "python",
      "version": "3.11.11",
      "mimetype": "text/x-python",
      "codemirror_mode": {
        "name": "ipython",
        "version": 3
      },
      "pygments_lexer": "ipython3",
      "nbconvert_exporter": "python",
      "file_extension": ".py"
    },
    "colab": {
      "provenance": [],
      "gpuType": "T4",
      "name": "NonSpeech7k",
      "include_colab_link": true
    },
    "accelerator": "GPU",
    "kaggle": {
      "accelerator": "nvidiaTeslaT4",
      "dataSources": [
        {
          "sourceId": 11804852,
          "sourceType": "datasetVersion",
          "datasetId": 7413516
        }
      ],
      "dockerImageVersionId": 31041,
      "isInternetEnabled": true,
      "language": "python",
      "sourceType": "notebook",
      "isGpuEnabled": true
    }
  },
  "nbformat_minor": 0,
  "nbformat": 4,
  "cells": [
    {
      "cell_type": "markdown",
      "metadata": {
        "id": "view-in-github",
        "colab_type": "text"
      },
      "source": [
        "<a href=\"https://colab.research.google.com/github/therishabhmittal-05/music/blob/main/NonSpeech7k.ipynb\" target=\"_parent\"><img src=\"https://colab.research.google.com/assets/colab-badge.svg\" alt=\"Open In Colab\"/></a>"
      ]
    },
    {
      "source": [
        "# IMPORTANT: SOME KAGGLE DATA SOURCES ARE PRIVATE\n",
        "# RUN THIS CELL IN ORDER TO IMPORT YOUR KAGGLE DATA SOURCES.\n",
        "import kagglehub\n",
        "kagglehub.login()\n"
      ],
      "metadata": {
        "id": "juv4D7dyrqJR"
      },
      "cell_type": "code",
      "outputs": [],
      "execution_count": null
    },
    {
      "source": [
        "# IMPORTANT: RUN THIS CELL IN ORDER TO IMPORT YOUR KAGGLE DATA SOURCES,\n",
        "# THEN FEEL FREE TO DELETE THIS CELL.\n",
        "# NOTE: THIS NOTEBOOK ENVIRONMENT DIFFERS FROM KAGGLE'S PYTHON\n",
        "# ENVIRONMENT SO THERE MAY BE MISSING LIBRARIES USED BY YOUR\n",
        "# NOTEBOOK.\n",
        "\n",
        "therishabhmittal05_nonspeech7kds_path = kagglehub.dataset_download('therishabhmittal05/nonspeech7kds')\n",
        "\n",
        "print('Data source import complete.')\n"
      ],
      "metadata": {
        "id": "6nGF49I2rqJU"
      },
      "cell_type": "code",
      "outputs": [],
      "execution_count": null
    },
    {
      "cell_type": "code",
      "source": [
        "# ! /kaggle/input/nonspeech7kds"
      ],
      "metadata": {
        "id": "mnMVqzAse_FA"
      },
      "outputs": [],
      "execution_count": null
    },
    {
      "cell_type": "code",
      "source": [
        "# !unzip /kaggle/input/nonspeech7kds/nonspeech7k.zip"
      ],
      "metadata": {
        "id": "FGZoiS7SnfTy",
        "trusted": true,
        "execution": {
          "iopub.status.busy": "2025-05-14T07:14:26.781387Z",
          "iopub.execute_input": "2025-05-14T07:14:26.781634Z",
          "iopub.status.idle": "2025-05-14T07:14:26.785895Z",
          "shell.execute_reply.started": "2025-05-14T07:14:26.781609Z",
          "shell.execute_reply": "2025-05-14T07:14:26.785077Z"
        }
      },
      "outputs": [],
      "execution_count": null
    },
    {
      "cell_type": "code",
      "source": [
        "import pandas as pd\n",
        "import numpy as np\n",
        "import torch\n",
        "import librosa\n",
        "import cv2\n",
        "import os\n",
        "from tqdm import tqdm\n",
        "from torch.utils.data import Dataset, DataLoader, random_split\n",
        "import matplotlib.pyplot as plt"
      ],
      "metadata": {
        "id": "WLk832PHny__",
        "trusted": true,
        "execution": {
          "iopub.status.busy": "2025-05-14T06:21:25.650435Z",
          "iopub.execute_input": "2025-05-14T06:21:25.651131Z",
          "iopub.status.idle": "2025-05-14T06:21:29.941951Z",
          "shell.execute_reply.started": "2025-05-14T06:21:25.65111Z",
          "shell.execute_reply": "2025-05-14T06:21:29.941368Z"
        }
      },
      "outputs": [],
      "execution_count": null
    },
    {
      "cell_type": "code",
      "source": [
        "device = \"cuda\" if torch.cuda.is_available() else \"cpu\"\n",
        "device"
      ],
      "metadata": {
        "colab": {
          "base_uri": "https://localhost:8080/",
          "height": 36
        },
        "id": "rzMdI-QmoUDM",
        "outputId": "78ff4137-c334-48df-ecf6-e8f0df2f81ef",
        "trusted": true,
        "execution": {
          "iopub.status.busy": "2025-05-14T06:21:31.675629Z",
          "iopub.execute_input": "2025-05-14T06:21:31.676052Z",
          "iopub.status.idle": "2025-05-14T06:21:31.757168Z",
          "shell.execute_reply.started": "2025-05-14T06:21:31.676022Z",
          "shell.execute_reply": "2025-05-14T06:21:31.756563Z"
        }
      },
      "outputs": [
        {
          "execution_count": 7,
          "output_type": "execute_result",
          "data": {
            "text/plain": "'cuda'"
          },
          "metadata": {}
        }
      ],
      "execution_count": null
    },
    {
      "cell_type": "code",
      "source": [
        "ds = pd.read_csv(\"/kaggle/input/nonspeech7kds/nonspeech7k/metadataoftrainset.csv\")\n",
        "ds.head()"
      ],
      "metadata": {
        "colab": {
          "base_uri": "https://localhost:8080/",
          "height": 330
        },
        "id": "hcTw8f_Wn5Vi",
        "outputId": "5617833c-03c6-4e66-bab3-9ae5957371e5",
        "trusted": true,
        "execution": {
          "iopub.status.busy": "2025-05-14T06:21:34.818334Z",
          "iopub.execute_input": "2025-05-14T06:21:34.818629Z",
          "iopub.status.idle": "2025-05-14T06:21:34.866622Z",
          "shell.execute_reply.started": "2025-05-14T06:21:34.818606Z",
          "shell.execute_reply": "2025-05-14T06:21:34.866026Z"
        }
      },
      "outputs": [
        {
          "execution_count": 8,
          "output_type": "execute_result",
          "data": {
            "text/plain": "           Filename File ID  Duration in ms  Class ID Classname  \\\n0  108160-1_0_0.wav  108160            3730         0    breath   \n1  108160-2_0_0.wav  108160            4000         0    breath   \n2  108160-3_0_0.wav  108160            4000         0    breath   \n3  108160-4_0_0.wav  108160            2226         0    breath   \n4  146769-1_0_0.wav  146769            3540         0    breath   \n\n   augmentation  id Augmentation  type                  source  \n0                 0            Orignal  https://freesound.org/  \n1                 0            Orignal  https://freesound.org/  \n2                 0            Orignal  https://freesound.org/  \n3                 0            Orignal  https://freesound.org/  \n4                 0            Orignal  https://freesound.org/  ",
            "text/html": "<div>\n<style scoped>\n    .dataframe tbody tr th:only-of-type {\n        vertical-align: middle;\n    }\n\n    .dataframe tbody tr th {\n        vertical-align: top;\n    }\n\n    .dataframe thead th {\n        text-align: right;\n    }\n</style>\n<table border=\"1\" class=\"dataframe\">\n  <thead>\n    <tr style=\"text-align: right;\">\n      <th></th>\n      <th>Filename</th>\n      <th>File ID</th>\n      <th>Duration in ms</th>\n      <th>Class ID</th>\n      <th>Classname</th>\n      <th>augmentation  id</th>\n      <th>Augmentation  type</th>\n      <th>source</th>\n    </tr>\n  </thead>\n  <tbody>\n    <tr>\n      <th>0</th>\n      <td>108160-1_0_0.wav</td>\n      <td>108160</td>\n      <td>3730</td>\n      <td>0</td>\n      <td>breath</td>\n      <td>0</td>\n      <td>Orignal</td>\n      <td>https://freesound.org/</td>\n    </tr>\n    <tr>\n      <th>1</th>\n      <td>108160-2_0_0.wav</td>\n      <td>108160</td>\n      <td>4000</td>\n      <td>0</td>\n      <td>breath</td>\n      <td>0</td>\n      <td>Orignal</td>\n      <td>https://freesound.org/</td>\n    </tr>\n    <tr>\n      <th>2</th>\n      <td>108160-3_0_0.wav</td>\n      <td>108160</td>\n      <td>4000</td>\n      <td>0</td>\n      <td>breath</td>\n      <td>0</td>\n      <td>Orignal</td>\n      <td>https://freesound.org/</td>\n    </tr>\n    <tr>\n      <th>3</th>\n      <td>108160-4_0_0.wav</td>\n      <td>108160</td>\n      <td>2226</td>\n      <td>0</td>\n      <td>breath</td>\n      <td>0</td>\n      <td>Orignal</td>\n      <td>https://freesound.org/</td>\n    </tr>\n    <tr>\n      <th>4</th>\n      <td>146769-1_0_0.wav</td>\n      <td>146769</td>\n      <td>3540</td>\n      <td>0</td>\n      <td>breath</td>\n      <td>0</td>\n      <td>Orignal</td>\n      <td>https://freesound.org/</td>\n    </tr>\n  </tbody>\n</table>\n</div>"
          },
          "metadata": {}
        }
      ],
      "execution_count": null
    },
    {
      "cell_type": "code",
      "source": [
        "class_ind = {\n",
        "    'breath' : 0,\n",
        "    'cough' : 1,\n",
        "    'crying' : 2,\n",
        "    'laugh' : 3,\n",
        "    'screaming' : 4,\n",
        "    'sneeze' : 5,\n",
        "    'yawn' : 6\n",
        "}\n",
        "def class_index(ds):\n",
        "  ds['label'] = ds.Classname.map(class_ind)\n",
        "\n",
        "class_index(ds)\n",
        "n_labels = len(class_ind)"
      ],
      "metadata": {
        "id": "ggh0eRQLyhyq",
        "trusted": true,
        "execution": {
          "iopub.status.busy": "2025-05-14T06:22:05.827202Z",
          "iopub.execute_input": "2025-05-14T06:22:05.827868Z",
          "iopub.status.idle": "2025-05-14T06:22:05.838265Z",
          "shell.execute_reply.started": "2025-05-14T06:22:05.827844Z",
          "shell.execute_reply": "2025-05-14T06:22:05.837491Z"
        }
      },
      "outputs": [],
      "execution_count": null
    },
    {
      "cell_type": "code",
      "source": [
        "ds.head()"
      ],
      "metadata": {
        "colab": {
          "base_uri": "https://localhost:8080/",
          "height": 330
        },
        "id": "XpMmi3ZUAqiw",
        "outputId": "80cdda95-901f-4ba4-8fe9-8938f00a3272",
        "trusted": true,
        "execution": {
          "iopub.status.busy": "2025-05-14T06:22:10.021496Z",
          "iopub.execute_input": "2025-05-14T06:22:10.022208Z",
          "iopub.status.idle": "2025-05-14T06:22:10.031288Z",
          "shell.execute_reply.started": "2025-05-14T06:22:10.022181Z",
          "shell.execute_reply": "2025-05-14T06:22:10.030583Z"
        }
      },
      "outputs": [
        {
          "execution_count": 10,
          "output_type": "execute_result",
          "data": {
            "text/plain": "           Filename File ID  Duration in ms  Class ID Classname  \\\n0  108160-1_0_0.wav  108160            3730         0    breath   \n1  108160-2_0_0.wav  108160            4000         0    breath   \n2  108160-3_0_0.wav  108160            4000         0    breath   \n3  108160-4_0_0.wav  108160            2226         0    breath   \n4  146769-1_0_0.wav  146769            3540         0    breath   \n\n   augmentation  id Augmentation  type                  source  label  \n0                 0            Orignal  https://freesound.org/      0  \n1                 0            Orignal  https://freesound.org/      0  \n2                 0            Orignal  https://freesound.org/      0  \n3                 0            Orignal  https://freesound.org/      0  \n4                 0            Orignal  https://freesound.org/      0  ",
            "text/html": "<div>\n<style scoped>\n    .dataframe tbody tr th:only-of-type {\n        vertical-align: middle;\n    }\n\n    .dataframe tbody tr th {\n        vertical-align: top;\n    }\n\n    .dataframe thead th {\n        text-align: right;\n    }\n</style>\n<table border=\"1\" class=\"dataframe\">\n  <thead>\n    <tr style=\"text-align: right;\">\n      <th></th>\n      <th>Filename</th>\n      <th>File ID</th>\n      <th>Duration in ms</th>\n      <th>Class ID</th>\n      <th>Classname</th>\n      <th>augmentation  id</th>\n      <th>Augmentation  type</th>\n      <th>source</th>\n      <th>label</th>\n    </tr>\n  </thead>\n  <tbody>\n    <tr>\n      <th>0</th>\n      <td>108160-1_0_0.wav</td>\n      <td>108160</td>\n      <td>3730</td>\n      <td>0</td>\n      <td>breath</td>\n      <td>0</td>\n      <td>Orignal</td>\n      <td>https://freesound.org/</td>\n      <td>0</td>\n    </tr>\n    <tr>\n      <th>1</th>\n      <td>108160-2_0_0.wav</td>\n      <td>108160</td>\n      <td>4000</td>\n      <td>0</td>\n      <td>breath</td>\n      <td>0</td>\n      <td>Orignal</td>\n      <td>https://freesound.org/</td>\n      <td>0</td>\n    </tr>\n    <tr>\n      <th>2</th>\n      <td>108160-3_0_0.wav</td>\n      <td>108160</td>\n      <td>4000</td>\n      <td>0</td>\n      <td>breath</td>\n      <td>0</td>\n      <td>Orignal</td>\n      <td>https://freesound.org/</td>\n      <td>0</td>\n    </tr>\n    <tr>\n      <th>3</th>\n      <td>108160-4_0_0.wav</td>\n      <td>108160</td>\n      <td>2226</td>\n      <td>0</td>\n      <td>breath</td>\n      <td>0</td>\n      <td>Orignal</td>\n      <td>https://freesound.org/</td>\n      <td>0</td>\n    </tr>\n    <tr>\n      <th>4</th>\n      <td>146769-1_0_0.wav</td>\n      <td>146769</td>\n      <td>3540</td>\n      <td>0</td>\n      <td>breath</td>\n      <td>0</td>\n      <td>Orignal</td>\n      <td>https://freesound.org/</td>\n      <td>0</td>\n    </tr>\n  </tbody>\n</table>\n</div>"
          },
          "metadata": {}
        }
      ],
      "execution_count": null
    },
    {
      "cell_type": "code",
      "source": [
        "# ls /kaggle/input/nonspeech7kds/nonspeech7k/train/train"
      ],
      "metadata": {
        "trusted": true,
        "execution": {
          "iopub.status.busy": "2025-05-14T06:23:00.914969Z",
          "iopub.execute_input": "2025-05-14T06:23:00.915291Z",
          "iopub.status.idle": "2025-05-14T06:23:00.919142Z",
          "shell.execute_reply.started": "2025-05-14T06:23:00.915266Z",
          "shell.execute_reply": "2025-05-14T06:23:00.918267Z"
        },
        "id": "MoUKDogmrqJc"
      },
      "outputs": [],
      "execution_count": null
    },
    {
      "cell_type": "code",
      "source": [
        "class config:\n",
        "  in_dir = \"/kaggle/input/nonspeech7kds/nonspeech7k/train/train/\"\n",
        "  out_dir = \"/kaggle/working/mel_spectrograms/\"\n",
        "  sr = 32000\n",
        "  n_fft = 1024\n",
        "  hop_length = 256\n",
        "  n_mels = 128\n",
        "  fmin = 20\n",
        "  fmax = 16000\n",
        "  t_shape = (256, 256)"
      ],
      "metadata": {
        "id": "s212nCpuoHk9",
        "trusted": true,
        "execution": {
          "iopub.status.busy": "2025-05-14T06:23:19.808486Z",
          "iopub.execute_input": "2025-05-14T06:23:19.809092Z",
          "iopub.status.idle": "2025-05-14T06:23:19.813027Z",
          "shell.execute_reply.started": "2025-05-14T06:23:19.809069Z",
          "shell.execute_reply": "2025-05-14T06:23:19.81234Z"
        }
      },
      "outputs": [],
      "execution_count": null
    },
    {
      "cell_type": "code",
      "source": [
        "# import IPython.display as ip\n",
        "# audio = config.in_dir + ds.Filename[0]\n",
        "# label = ds.Classname[0]\n",
        "# print(label)\n",
        "# print(audio)\n",
        "# ip.Audio(audio)"
      ],
      "metadata": {
        "id": "beRjgPdWqouZ",
        "trusted": true,
        "execution": {
          "iopub.status.busy": "2025-05-14T06:23:21.812794Z",
          "iopub.execute_input": "2025-05-14T06:23:21.813367Z",
          "iopub.status.idle": "2025-05-14T06:23:21.816556Z",
          "shell.execute_reply.started": "2025-05-14T06:23:21.813346Z",
          "shell.execute_reply": "2025-05-14T06:23:21.815766Z"
        }
      },
      "outputs": [],
      "execution_count": null
    },
    {
      "cell_type": "code",
      "source": [
        "# y, sr = librosa.load(audio)\n",
        "\n",
        "# mel = librosa.feature.melspectrogram(\n",
        "#     y=y,\n",
        "#     sr = config.sr,\n",
        "#     n_fft = config.n_fft,\n",
        "#     hop_length = config.hop_length,\n",
        "#     n_mels = config.n_mels,\n",
        "#     fmin = config.fmin,\n",
        "#     fmax = config.fmax\n",
        "# )\n",
        "# mel = librosa.power_to_db(mel, ref = np.max)\n",
        "# librosa.display.specshow(mel)\n",
        "# print(label)\n",
        "# print(mel.shape)"
      ],
      "metadata": {
        "id": "YV1zjG3-rM5f",
        "trusted": true,
        "execution": {
          "iopub.status.busy": "2025-05-14T06:23:22.223522Z",
          "iopub.execute_input": "2025-05-14T06:23:22.224046Z",
          "iopub.status.idle": "2025-05-14T06:23:22.227412Z",
          "shell.execute_reply.started": "2025-05-14T06:23:22.224024Z",
          "shell.execute_reply": "2025-05-14T06:23:22.226727Z"
        }
      },
      "outputs": [],
      "execution_count": null
    },
    {
      "cell_type": "code",
      "source": [
        "# mel = get_mel(audio)\n",
        "# librosa.display.specshow(mel)"
      ],
      "metadata": {
        "id": "J33ysMnftbAH"
      },
      "outputs": [],
      "execution_count": null
    },
    {
      "cell_type": "code",
      "source": [
        "def get_mel(y):\n",
        "  mel = librosa.feature.melspectrogram(\n",
        "      y=y,\n",
        "      sr = config.sr,\n",
        "      n_fft = config.n_fft,\n",
        "      hop_length = config.hop_length,\n",
        "      n_mels = config.n_mels,\n",
        "      fmin = config.fmin,\n",
        "      fmax = config.fmax\n",
        "  )\n",
        "  mel = librosa.power_to_db(mel, ref = np.max)\n",
        "  mel = (mel - mel.min()) / (mel.max() - mel.min() + 1e-8)\n",
        "  return mel"
      ],
      "metadata": {
        "id": "n2e1T1YfsN4x",
        "trusted": true,
        "execution": {
          "iopub.status.busy": "2025-05-14T06:23:25.703745Z",
          "iopub.execute_input": "2025-05-14T06:23:25.704474Z",
          "iopub.status.idle": "2025-05-14T06:23:25.708824Z",
          "shell.execute_reply.started": "2025-05-14T06:23:25.704448Z",
          "shell.execute_reply": "2025-05-14T06:23:25.708023Z"
        }
      },
      "outputs": [],
      "execution_count": null
    },
    {
      "cell_type": "code",
      "source": [
        "os.makedirs(config.out_dir, exist_ok=True)\n",
        "for i, row in tqdm(ds.iterrows(), total=len(ds)):\n",
        "  audio = config.in_dir + row.Filename\n",
        "  y, _ = librosa.load(audio)\n",
        "  mel = get_mel(y)\n",
        "  if mel.shape != config.t_shape:\n",
        "    mel = cv2.resize(mel, config.t_shape, interpolation = cv2.INTER_LINEAR)\n",
        "  out_path = f\"{config.out_dir}{row.Classname}_{row.label}_{i}.npy\"\n",
        "  np.save(out_path, mel.astype(np.float32))"
      ],
      "metadata": {
        "colab": {
          "base_uri": "https://localhost:8080/"
        },
        "id": "szg9laUxyj3z",
        "outputId": "585bedcc-a9af-4652-cb49-375e4ca44b82",
        "trusted": true,
        "execution": {
          "iopub.status.busy": "2025-05-14T06:24:58.759629Z",
          "iopub.execute_input": "2025-05-14T06:24:58.760149Z",
          "iopub.status.idle": "2025-05-14T06:27:05.816093Z",
          "shell.execute_reply.started": "2025-05-14T06:24:58.760126Z",
          "shell.execute_reply": "2025-05-14T06:27:05.815187Z"
        }
      },
      "outputs": [
        {
          "name": "stderr",
          "text": "100%|██████████| 6289/6289 [02:07<00:00, 49.50it/s]\n",
          "output_type": "stream"
        }
      ],
      "execution_count": null
    },
    {
      "cell_type": "code",
      "source": [
        "test = config.out_dir + os.listdir(config.out_dir)[2]\n",
        "mel = np.load(test)\n",
        "print(mel.shape)\n",
        "print(os.path.basename(test).split('_')[0])\n",
        "librosa.display.specshow(mel)"
      ],
      "metadata": {
        "colab": {
          "base_uri": "https://localhost:8080/",
          "height": 562
        },
        "id": "InTh3GPu9kyX",
        "outputId": "8c9c5ee6-8395-4c1b-937b-2dfa4710cfe8",
        "trusted": true,
        "execution": {
          "iopub.status.busy": "2025-05-14T06:28:28.795538Z",
          "iopub.execute_input": "2025-05-14T06:28:28.79628Z",
          "iopub.status.idle": "2025-05-14T06:28:28.94713Z",
          "shell.execute_reply.started": "2025-05-14T06:28:28.796255Z",
          "shell.execute_reply": "2025-05-14T06:28:28.946438Z"
        }
      },
      "outputs": [
        {
          "name": "stdout",
          "text": "(256, 256)\ncrying\n",
          "output_type": "stream"
        },
        {
          "execution_count": 30,
          "output_type": "execute_result",
          "data": {
            "text/plain": "<matplotlib.collections.QuadMesh at 0x7eb45d40dd10>"
          },
          "metadata": {}
        },
        {
          "output_type": "display_data",
          "data": {
            "text/plain": "<Figure size 640x480 with 1 Axes>",
            "image/png": "[encoded data removed]"
          },
          "metadata": {}
        }
      ],
      "execution_count": null
    },
    {
      "cell_type": "code",
      "source": [
        "# len(os.listdir(\"/content/mel_spectrograms\"))\n",
        "# files= [f for f in os.listdir(\"/content/mel_spectrograms\") if f.endswith('.npy')]"
      ],
      "metadata": {
        "id": "miJvD10DOpiO",
        "trusted": true,
        "execution": {
          "iopub.status.busy": "2025-05-14T06:28:34.358065Z",
          "iopub.execute_input": "2025-05-14T06:28:34.358738Z",
          "iopub.status.idle": "2025-05-14T06:28:34.361785Z",
          "shell.execute_reply.started": "2025-05-14T06:28:34.358711Z",
          "shell.execute_reply": "2025-05-14T06:28:34.360938Z"
        }
      },
      "outputs": [],
      "execution_count": null
    },
    {
      "cell_type": "code",
      "source": [
        "# files[0].split('_')[1]\n",
        "# filepath = os.path.join(\"/content/mel_spectrograms/\", files[0])\n",
        "# print(filepath)"
      ],
      "metadata": {
        "id": "VhC69qvOPjrJ",
        "trusted": true,
        "execution": {
          "iopub.status.busy": "2025-05-14T06:28:34.83984Z",
          "iopub.execute_input": "2025-05-14T06:28:34.840122Z",
          "iopub.status.idle": "2025-05-14T06:28:34.843671Z",
          "shell.execute_reply.started": "2025-05-14T06:28:34.840101Z",
          "shell.execute_reply": "2025-05-14T06:28:34.842745Z"
        }
      },
      "outputs": [],
      "execution_count": null
    },
    {
      "cell_type": "code",
      "source": [
        "class NonSpeech(Dataset):\n",
        "  def __init__(self, mel_dir):\n",
        "    self.mel_dir = mel_dir # /content/mel_spectrograms/\n",
        "    self.files = [f for f in os.listdir(self.mel_dir) if f.endswith('.npy')]\n",
        "\n",
        "  def __len__(self):\n",
        "    return len(self.files)\n",
        "\n",
        "  def __getitem__(self, idx):\n",
        "    filename = self.files[idx]\n",
        "    filepath = os.path.join(self.mel_dir, filename)\n",
        "    img = np.load(filepath)\n",
        "    img = torch.from_numpy(img).float()\n",
        "    img = img.repeat(3, 1, 1)\n",
        "\n",
        "    label = torch.tensor(int(filename.split('_')[1]), dtype = torch.long)\n",
        "\n",
        "    return img, label"
      ],
      "metadata": {
        "id": "fUN4_tdmMbIp",
        "trusted": true,
        "execution": {
          "iopub.status.busy": "2025-05-14T06:28:41.186852Z",
          "iopub.execute_input": "2025-05-14T06:28:41.187577Z",
          "iopub.status.idle": "2025-05-14T06:28:41.193024Z",
          "shell.execute_reply.started": "2025-05-14T06:28:41.18755Z",
          "shell.execute_reply": "2025-05-14T06:28:41.192181Z"
        }
      },
      "outputs": [],
      "execution_count": null
    },
    {
      "cell_type": "code",
      "source": [
        "NonSpeechDs = NonSpeech(config.out_dir)"
      ],
      "metadata": {
        "id": "rcpTB2Y_SMbd",
        "trusted": true,
        "execution": {
          "iopub.status.busy": "2025-05-14T06:28:42.404676Z",
          "iopub.execute_input": "2025-05-14T06:28:42.405259Z",
          "iopub.status.idle": "2025-05-14T06:28:42.412445Z",
          "shell.execute_reply.started": "2025-05-14T06:28:42.405237Z",
          "shell.execute_reply": "2025-05-14T06:28:42.411756Z"
        }
      },
      "outputs": [],
      "execution_count": null
    },
    {
      "cell_type": "code",
      "source": [
        "train_size = int(0.8 * len(NonSpeechDs))\n",
        "val_size = len(NonSpeechDs) - train_size\n",
        "NonSpeech_train, NonSpeech_val = random_split(NonSpeechDs, [train_size, val_size])"
      ],
      "metadata": {
        "id": "pU-ESBzjSlaJ",
        "trusted": true,
        "execution": {
          "iopub.status.busy": "2025-05-14T06:28:46.314502Z",
          "iopub.execute_input": "2025-05-14T06:28:46.314786Z",
          "iopub.status.idle": "2025-05-14T06:28:46.31956Z",
          "shell.execute_reply.started": "2025-05-14T06:28:46.314763Z",
          "shell.execute_reply": "2025-05-14T06:28:46.318882Z"
        }
      },
      "outputs": [],
      "execution_count": null
    },
    {
      "cell_type": "code",
      "source": [
        "batch_size=8\n",
        "train_load = DataLoader(NonSpeech_train, batch_size=batch_size, shuffle=True, num_workers=2, pin_memory=True)\n",
        "val_load = DataLoader(NonSpeech_val, batch_size=batch_size, shuffle=False, num_workers=2, pin_memory=True)"
      ],
      "metadata": {
        "id": "qWWrYSzNS_mB",
        "trusted": true,
        "execution": {
          "iopub.status.busy": "2025-05-14T06:28:47.732742Z",
          "iopub.execute_input": "2025-05-14T06:28:47.73329Z",
          "iopub.status.idle": "2025-05-14T06:28:47.737725Z",
          "shell.execute_reply.started": "2025-05-14T06:28:47.733268Z",
          "shell.execute_reply": "2025-05-14T06:28:47.736825Z"
        }
      },
      "outputs": [],
      "execution_count": null
    },
    {
      "cell_type": "code",
      "source": [
        "from torchvision.models import efficientnet_v2_m, EfficientNet_V2_M_Weights\n",
        "import torch.nn as nn"
      ],
      "metadata": {
        "id": "ZORKNzqsWf4o",
        "trusted": true,
        "execution": {
          "iopub.status.busy": "2025-05-14T06:28:49.491892Z",
          "iopub.execute_input": "2025-05-14T06:28:49.492473Z",
          "iopub.status.idle": "2025-05-14T06:28:49.495725Z",
          "shell.execute_reply.started": "2025-05-14T06:28:49.492443Z",
          "shell.execute_reply": "2025-05-14T06:28:49.495017Z"
        }
      },
      "outputs": [],
      "execution_count": null
    },
    {
      "cell_type": "code",
      "source": [
        "# base = efficientnet_v2_m(weights=EfficientNet_V2_M_Weights.DEFAULT)\n",
        "# print(base.classifier)\n"
      ],
      "metadata": {
        "id": "xBf863gnIcyn",
        "trusted": true,
        "execution": {
          "iopub.status.busy": "2025-05-14T06:28:52.246215Z",
          "iopub.execute_input": "2025-05-14T06:28:52.246746Z",
          "iopub.status.idle": "2025-05-14T06:28:52.250143Z",
          "shell.execute_reply.started": "2025-05-14T06:28:52.246723Z",
          "shell.execute_reply": "2025-05-14T06:28:52.249282Z"
        }
      },
      "outputs": [],
      "execution_count": null
    },
    {
      "cell_type": "code",
      "source": [
        "class NonSpeechModel(nn.Module):\n",
        "  def __init__(self, n_labels):\n",
        "    super().__init__()\n",
        "    base = efficientnet_v2_m(weights=EfficientNet_V2_M_Weights.DEFAULT)\n",
        "\n",
        "    self.features = base.features\n",
        "    self.avg_pool = base.avgpool\n",
        "    self.classifier = nn.Sequential(\n",
        "        nn.Dropout(0.4),\n",
        "        nn.Linear(base.classifier[1].in_features, n_labels)\n",
        "    )\n",
        "  def forward(self, x):\n",
        "    x = self.features(x)\n",
        "    x = self.avg_pool(x)\n",
        "    x = x.view(x.size(0), -1)\n",
        "    return self.classifier(x)"
      ],
      "metadata": {
        "id": "o7s3Ui1AXV9b",
        "trusted": true,
        "execution": {
          "iopub.status.busy": "2025-05-14T06:31:00.093209Z",
          "iopub.execute_input": "2025-05-14T06:31:00.093525Z",
          "iopub.status.idle": "2025-05-14T06:31:00.098789Z",
          "shell.execute_reply.started": "2025-05-14T06:31:00.093503Z",
          "shell.execute_reply": "2025-05-14T06:31:00.098157Z"
        }
      },
      "outputs": [],
      "execution_count": null
    },
    {
      "cell_type": "code",
      "source": [
        "model = NonSpeechModel(n_labels).to(device)"
      ],
      "metadata": {
        "colab": {
          "base_uri": "https://localhost:8080/"
        },
        "id": "6BA74BK2YiSf",
        "outputId": "cb5bf02b-e653-4fb9-ce0a-da4864e00683",
        "trusted": true,
        "execution": {
          "iopub.status.busy": "2025-05-14T06:31:01.663672Z",
          "iopub.execute_input": "2025-05-14T06:31:01.664228Z",
          "iopub.status.idle": "2025-05-14T06:31:04.667004Z",
          "shell.execute_reply.started": "2025-05-14T06:31:01.664204Z",
          "shell.execute_reply": "2025-05-14T06:31:04.666425Z"
        }
      },
      "outputs": [
        {
          "name": "stderr",
          "text": "Downloading: \"https://download.pytorch.org/models/efficientnet_v2_m-dc08266a.pth\" to /root/.cache/torch/hub/checkpoints/efficientnet_v2_m-dc08266a.pth\n100%|██████████| 208M/208M [00:01<00:00, 149MB/s]  \n",
          "output_type": "stream"
        }
      ],
      "execution_count": null
    },
    {
      "cell_type": "code",
      "source": [
        "# from torchsummary import summary\n",
        "# summary(model, (3, 256, 256))"
      ],
      "metadata": {
        "id": "oI-r6kWGYlej"
      },
      "outputs": [],
      "execution_count": null
    },
    {
      "cell_type": "code",
      "source": [
        "lr = 1e-4\n",
        "criterion = nn.CrossEntropyLoss()\n",
        "optimizer = torch.optim.Adam(model.parameters(), lr=lr, weight_decay=1e-4)\n",
        "scheduler = torch.optim.lr_scheduler.ReduceLROnPlateau(optimizer, mode='min', factor=0.5, patience=5)"
      ],
      "metadata": {
        "id": "FNmg31YyYy49",
        "trusted": true,
        "execution": {
          "iopub.status.busy": "2025-05-14T06:31:53.102918Z",
          "iopub.execute_input": "2025-05-14T06:31:53.103213Z",
          "iopub.status.idle": "2025-05-14T06:31:53.11016Z",
          "shell.execute_reply.started": "2025-05-14T06:31:53.103191Z",
          "shell.execute_reply": "2025-05-14T06:31:53.109368Z"
        }
      },
      "outputs": [],
      "execution_count": null
    },
    {
      "cell_type": "code",
      "source": [
        "!pip install torcheval\n"
      ],
      "metadata": {
        "colab": {
          "base_uri": "https://localhost:8080/"
        },
        "id": "xhGHj9ij6mBP",
        "outputId": "7af3f4bb-92c9-42dd-e4b0-4adc7b907179",
        "trusted": true,
        "execution": {
          "iopub.status.busy": "2025-05-14T06:31:55.298669Z",
          "iopub.execute_input": "2025-05-14T06:31:55.298943Z",
          "iopub.status.idle": "2025-05-14T06:31:59.643881Z",
          "shell.execute_reply.started": "2025-05-14T06:31:55.298922Z",
          "shell.execute_reply": "2025-05-14T06:31:59.642829Z"
        }
      },
      "outputs": [
        {
          "name": "stdout",
          "text": "Collecting torcheval\n  Downloading torcheval-0.0.7-py3-none-any.whl.metadata (8.6 kB)\nRequirement already satisfied: typing-extensions in /usr/local/lib/python3.11/dist-packages (from torcheval) (4.13.2)\nDownloading torcheval-0.0.7-py3-none-any.whl (179 kB)\n\u001b[2K   \u001b[90m━━━━━━━━━━━━━━━━━━━━━━━━━━━━━━━━━━━━━━━━\u001b[0m \u001b[32m179.2/179.2 kB\u001b[0m \u001b[31m4.6 MB/s\u001b[0m eta \u001b[36m0:00:00\u001b[0ma \u001b[36m0:00:01\u001b[0m\n\u001b[?25hInstalling collected packages: torcheval\nSuccessfully installed torcheval-0.0.7\n",
          "output_type": "stream"
        }
      ],
      "execution_count": null
    },
    {
      "cell_type": "code",
      "source": [
        "from torcheval.metrics.functional import multiclass_f1_score"
      ],
      "metadata": {
        "id": "Cnn44zYG6B30",
        "trusted": true,
        "execution": {
          "iopub.status.busy": "2025-05-14T06:32:01.5847Z",
          "iopub.execute_input": "2025-05-14T06:32:01.585023Z",
          "iopub.status.idle": "2025-05-14T06:32:02.141627Z",
          "shell.execute_reply.started": "2025-05-14T06:32:01.584993Z",
          "shell.execute_reply": "2025-05-14T06:32:02.141086Z"
        }
      },
      "outputs": [],
      "execution_count": null
    },
    {
      "cell_type": "code",
      "source": [
        "from torch.amp import autocast, GradScaler\n",
        "\n",
        "def train(model, train_load, optimizer, scheduler, criterion, n_epochs=25):\n",
        "  losses = []\n",
        "  accuracies = []\n",
        "  f1_score = []\n",
        "  scaler = GradScaler(device='cuda')\n",
        "  for epoch in range(n_epochs):\n",
        "    model.train()\n",
        "    running_loss = 0.0\n",
        "    correct, total = 0,0\n",
        "    all_preds, all_labels=[], []\n",
        "\n",
        "    for sample, label in tqdm(train_load, total=len(train_load)):\n",
        "      sample = sample.to(device)\n",
        "      label = label.to(device)\n",
        "\n",
        "      optimizer.zero_grad()\n",
        "\n",
        "      with autocast(device_type='cuda'):\n",
        "        yhat = model(sample)\n",
        "        loss = criterion(yhat, label)\n",
        "\n",
        "      scaler.scale(loss).backward()\n",
        "      scaler.step(optimizer)\n",
        "      scaler.update()\n",
        "\n",
        "      # loss.backward()\n",
        "      # optimizer.step()\n",
        "\n",
        "      running_loss += loss.item() * sample.size(0)\n",
        "\n",
        "      preds = torch.argmax(yhat, dim=1)\n",
        "      correct += (preds == label).sum().item()\n",
        "      total += label.size(0)\n",
        "\n",
        "      all_preds.append(preds.cpu())\n",
        "      all_label.append(label.cpu())\n",
        "\n",
        "    all_preds = torch.cat(all_preds)\n",
        "    all_labels = torch.cat(all_label)\n",
        "\n",
        "    f1 = multiclass_f1_score(all_preds, all_label, num_classes=n_labels, average=\"macro\")\n",
        "    f1_score.append(f1.item())\n",
        "\n",
        "    epoch_loss = running_loss / len(train_load.dataset)\n",
        "    epoch_acc = correct / total\n",
        "\n",
        "    losses.append(epoch_loss)\n",
        "    accuracies.append(epoch_acc)\n",
        "\n",
        "    scheduler.step(losses[-1])\n",
        "    print(f'Epoch {epoch+1}/{n_epochs} - Loss: {epoch_loss:.4f}, Accuracy: {epoch_acc:.4f}, F1 Score: {f1.item():.4f}')\n",
        "  return losses, accuracies, f1_score"
      ],
      "metadata": {
        "id": "fUt5vMT0Y7Ok",
        "trusted": true,
        "execution": {
          "iopub.status.busy": "2025-05-14T06:33:13.203314Z",
          "iopub.execute_input": "2025-05-14T06:33:13.203962Z",
          "iopub.status.idle": "2025-05-14T06:33:13.212719Z",
          "shell.execute_reply.started": "2025-05-14T06:33:13.203931Z",
          "shell.execute_reply": "2025-05-14T06:33:13.212029Z"
        }
      },
      "outputs": [],
      "execution_count": null
    },
    {
      "cell_type": "code",
      "source": [
        "losses, accuracies, f1_score = train(model, train_load, optimizer, scheduler, criterion)\n",
        "losses, accuracies, f1_score"
      ],
      "metadata": {
        "colab": {
          "base_uri": "https://localhost:8080/",
          "height": 373
        },
        "id": "0_Z99faIdXC-",
        "outputId": "9226f40e-32c3-4809-ce10-61328113fbd0",
        "trusted": true,
        "execution": {
          "iopub.status.busy": "2025-05-14T06:33:14.561094Z",
          "iopub.execute_input": "2025-05-14T06:33:14.561352Z",
          "iopub.status.idle": "2025-05-14T07:14:26.194004Z",
          "shell.execute_reply.started": "2025-05-14T06:33:14.561335Z",
          "shell.execute_reply": "2025-05-14T07:14:26.193262Z"
        }
      },
      "outputs": [
        {
          "name": "stderr",
          "text": "100%|██████████| 629/629 [01:38<00:00,  6.39it/s]\n",
          "output_type": "stream"
        },
        {
          "name": "stdout",
          "text": "Epoch 1/25 - Loss: 0.7170, Accuracy: 0.7531, F1 Score: 0.6567\n",
          "output_type": "stream"
        },
        {
          "name": "stderr",
          "text": "100%|██████████| 629/629 [01:39<00:00,  6.29it/s]\n",
          "output_type": "stream"
        },
        {
          "name": "stdout",
          "text": "Epoch 2/25 - Loss: 0.3476, Accuracy: 0.8891, F1 Score: 0.8618\n",
          "output_type": "stream"
        },
        {
          "name": "stderr",
          "text": "100%|██████████| 629/629 [01:38<00:00,  6.36it/s]\n",
          "output_type": "stream"
        },
        {
          "name": "stdout",
          "text": "Epoch 3/25 - Loss: 0.2076, Accuracy: 0.9346, F1 Score: 0.9135\n",
          "output_type": "stream"
        },
        {
          "name": "stderr",
          "text": "100%|██████████| 629/629 [01:38<00:00,  6.39it/s]\n",
          "output_type": "stream"
        },
        {
          "name": "stdout",
          "text": "Epoch 4/25 - Loss: 0.1340, Accuracy: 0.9539, F1 Score: 0.9406\n",
          "output_type": "stream"
        },
        {
          "name": "stderr",
          "text": "100%|██████████| 629/629 [01:38<00:00,  6.37it/s]\n",
          "output_type": "stream"
        },
        {
          "name": "stdout",
          "text": "Epoch 5/25 - Loss: 0.0960, Accuracy: 0.9704, F1 Score: 0.9586\n",
          "output_type": "stream"
        },
        {
          "name": "stderr",
          "text": "100%|██████████| 629/629 [01:38<00:00,  6.39it/s]\n",
          "output_type": "stream"
        },
        {
          "name": "stdout",
          "text": "Epoch 6/25 - Loss: 0.0851, Accuracy: 0.9696, F1 Score: 0.9606\n",
          "output_type": "stream"
        },
        {
          "name": "stderr",
          "text": "100%|██████████| 629/629 [01:38<00:00,  6.37it/s]\n",
          "output_type": "stream"
        },
        {
          "name": "stdout",
          "text": "Epoch 7/25 - Loss: 0.0923, Accuracy: 0.9722, F1 Score: 0.9649\n",
          "output_type": "stream"
        },
        {
          "name": "stderr",
          "text": "100%|██████████| 629/629 [01:38<00:00,  6.40it/s]\n",
          "output_type": "stream"
        },
        {
          "name": "stdout",
          "text": "Epoch 8/25 - Loss: 0.0634, Accuracy: 0.9813, F1 Score: 0.9734\n",
          "output_type": "stream"
        },
        {
          "name": "stderr",
          "text": "100%|██████████| 629/629 [01:38<00:00,  6.37it/s]\n",
          "output_type": "stream"
        },
        {
          "name": "stdout",
          "text": "Epoch 9/25 - Loss: 0.0752, Accuracy: 0.9758, F1 Score: 0.9696\n",
          "output_type": "stream"
        },
        {
          "name": "stderr",
          "text": "100%|██████████| 629/629 [01:38<00:00,  6.40it/s]\n",
          "output_type": "stream"
        },
        {
          "name": "stdout",
          "text": "Epoch 10/25 - Loss: 0.0670, Accuracy: 0.9787, F1 Score: 0.9720\n",
          "output_type": "stream"
        },
        {
          "name": "stderr",
          "text": "100%|██████████| 629/629 [01:38<00:00,  6.37it/s]\n",
          "output_type": "stream"
        },
        {
          "name": "stdout",
          "text": "Epoch 11/25 - Loss: 0.0714, Accuracy: 0.9789, F1 Score: 0.9725\n",
          "output_type": "stream"
        },
        {
          "name": "stderr",
          "text": "100%|██████████| 629/629 [01:38<00:00,  6.37it/s]\n",
          "output_type": "stream"
        },
        {
          "name": "stdout",
          "text": "Epoch 12/25 - Loss: 0.0441, Accuracy: 0.9859, F1 Score: 0.9811\n",
          "output_type": "stream"
        },
        {
          "name": "stderr",
          "text": "100%|██████████| 629/629 [01:38<00:00,  6.39it/s]\n",
          "output_type": "stream"
        },
        {
          "name": "stdout",
          "text": "Epoch 13/25 - Loss: 0.0619, Accuracy: 0.9823, F1 Score: 0.9772\n",
          "output_type": "stream"
        },
        {
          "name": "stderr",
          "text": "100%|██████████| 629/629 [01:38<00:00,  6.38it/s]\n",
          "output_type": "stream"
        },
        {
          "name": "stdout",
          "text": "Epoch 14/25 - Loss: 0.0547, Accuracy: 0.9817, F1 Score: 0.9745\n",
          "output_type": "stream"
        },
        {
          "name": "stderr",
          "text": "100%|██████████| 629/629 [01:38<00:00,  6.36it/s]\n",
          "output_type": "stream"
        },
        {
          "name": "stdout",
          "text": "Epoch 15/25 - Loss: 0.0498, Accuracy: 0.9835, F1 Score: 0.9762\n",
          "output_type": "stream"
        },
        {
          "name": "stderr",
          "text": "100%|██████████| 629/629 [01:38<00:00,  6.40it/s]\n",
          "output_type": "stream"
        },
        {
          "name": "stdout",
          "text": "Epoch 16/25 - Loss: 0.0593, Accuracy: 0.9833, F1 Score: 0.9761\n",
          "output_type": "stream"
        },
        {
          "name": "stderr",
          "text": "100%|██████████| 629/629 [01:38<00:00,  6.39it/s]\n",
          "output_type": "stream"
        },
        {
          "name": "stdout",
          "text": "Epoch 17/25 - Loss: 0.0377, Accuracy: 0.9891, F1 Score: 0.9843\n",
          "output_type": "stream"
        },
        {
          "name": "stderr",
          "text": "100%|██████████| 629/629 [01:38<00:00,  6.40it/s]\n",
          "output_type": "stream"
        },
        {
          "name": "stdout",
          "text": "Epoch 18/25 - Loss: 0.0416, Accuracy: 0.9857, F1 Score: 0.9816\n",
          "output_type": "stream"
        },
        {
          "name": "stderr",
          "text": "100%|██████████| 629/629 [01:39<00:00,  6.34it/s]\n",
          "output_type": "stream"
        },
        {
          "name": "stdout",
          "text": "Epoch 19/25 - Loss: 0.0343, Accuracy: 0.9891, F1 Score: 0.9865\n",
          "output_type": "stream"
        },
        {
          "name": "stderr",
          "text": "100%|██████████| 629/629 [01:38<00:00,  6.40it/s]\n",
          "output_type": "stream"
        },
        {
          "name": "stdout",
          "text": "Epoch 20/25 - Loss: 0.0417, Accuracy: 0.9861, F1 Score: 0.9806\n",
          "output_type": "stream"
        },
        {
          "name": "stderr",
          "text": "100%|██████████| 629/629 [01:38<00:00,  6.40it/s]\n",
          "output_type": "stream"
        },
        {
          "name": "stdout",
          "text": "Epoch 21/25 - Loss: 0.0377, Accuracy: 0.9881, F1 Score: 0.9854\n",
          "output_type": "stream"
        },
        {
          "name": "stderr",
          "text": "100%|██████████| 629/629 [01:39<00:00,  6.33it/s]\n",
          "output_type": "stream"
        },
        {
          "name": "stdout",
          "text": "Epoch 22/25 - Loss: 0.0465, Accuracy: 0.9857, F1 Score: 0.9816\n",
          "output_type": "stream"
        },
        {
          "name": "stderr",
          "text": "100%|██████████| 629/629 [01:39<00:00,  6.32it/s]\n",
          "output_type": "stream"
        },
        {
          "name": "stdout",
          "text": "Epoch 23/25 - Loss: 0.0446, Accuracy: 0.9879, F1 Score: 0.9864\n",
          "output_type": "stream"
        },
        {
          "name": "stderr",
          "text": "100%|██████████| 629/629 [01:40<00:00,  6.29it/s]\n",
          "output_type": "stream"
        },
        {
          "name": "stdout",
          "text": "Epoch 24/25 - Loss: 0.0541, Accuracy: 0.9841, F1 Score: 0.9758\n",
          "output_type": "stream"
        },
        {
          "name": "stderr",
          "text": "100%|██████████| 629/629 [01:41<00:00,  6.21it/s]\n",
          "output_type": "stream"
        },
        {
          "name": "stdout",
          "text": "Epoch 25/25 - Loss: 0.0315, Accuracy: 0.9911, F1 Score: 0.9851\n",
          "output_type": "stream"
        },
        {
          "execution_count": 48,
          "output_type": "execute_result",
          "data": {
            "text/plain": "([0.7170175257111325,\n  0.3476450884290065,\n  0.20758011723886877,\n  0.13400410939414514,\n  0.09598487123618944,\n  0.08506559131619258,\n  0.09233695291196718,\n  0.06343351444037425,\n  0.07518357236424797,\n  0.06698751376722992,\n  0.07142661399050845,\n  0.044094111283910324,\n  0.061872081286576563,\n  0.054722065836597694,\n  0.049786343367996526,\n  0.05926057473017283,\n  0.03770942366388583,\n  0.041595257648391434,\n  0.034268928390004436,\n  0.041676589615289084,\n  0.037672237405861494,\n  0.04645214657071712,\n  0.044613398998069424,\n  0.05410866248283459,\n  0.03150396727586783],\n [0.7531305903398927,\n  0.889087656529517,\n  0.9346054462333532,\n  0.9538859073742795,\n  0.9703836215464122,\n  0.9695885509838998,\n  0.9721725303120652,\n  0.9813158417809581,\n  0.9757503478433711,\n  0.9787318624527926,\n  0.9789306300934207,\n  0.9858874975154045,\n  0.9823096799840986,\n  0.9817133770622143,\n  0.9835022858278673,\n  0.9833035181872392,\n  0.9890677797654542,\n  0.9856887298747764,\n  0.9890677797654542,\n  0.9860862651560326,\n  0.9880739415623137,\n  0.9856887298747764,\n  0.9878751739216856,\n  0.9840985887497515,\n  0.9910554561717353],\n [0.6567032933235168,\n  0.8617628812789917,\n  0.9134727120399475,\n  0.9406175017356873,\n  0.9586038589477539,\n  0.9606109261512756,\n  0.9649158120155334,\n  0.9734101295471191,\n  0.9695706963539124,\n  0.9719517827033997,\n  0.9725428819656372,\n  0.9810593724250793,\n  0.9772321581840515,\n  0.9744511842727661,\n  0.9761978983879089,\n  0.9760681390762329,\n  0.9843366742134094,\n  0.9815778732299805,\n  0.9864829182624817,\n  0.9806479811668396,\n  0.9854090809822083,\n  0.9816204905509949,\n  0.9863624572753906,\n  0.9758082628250122,\n  0.9851488471031189])"
          },
          "metadata": {}
        }
      ],
      "execution_count": null
    },
    {
      "cell_type": "code",
      "source": [
        "plt.plot(losses)\n",
        "plt.show()"
      ],
      "metadata": {
        "id": "ALB98Lmkdlz6",
        "colab": {
          "base_uri": "https://localhost:8080/",
          "height": 430
        },
        "outputId": "60287b0e-10c4-4831-eb02-07024db026f8",
        "trusted": true,
        "execution": {
          "iopub.status.busy": "2025-05-14T07:14:26.195234Z",
          "iopub.execute_input": "2025-05-14T07:14:26.195458Z",
          "iopub.status.idle": "2025-05-14T07:14:26.326181Z",
          "shell.execute_reply.started": "2025-05-14T07:14:26.19544Z",
          "shell.execute_reply": "2025-05-14T07:14:26.325341Z"
        }
      },
      "outputs": [
        {
          "output_type": "display_data",
          "data": {
            "text/plain": "<Figure size 640x480 with 1 Axes>",
            "image/png": "[encoded data removed]"
          },
          "metadata": {}
        }
      ],
      "execution_count": null
    },
    {
      "cell_type": "code",
      "source": [
        "plt.plot(accuracies)\n",
        "plt.show()"
      ],
      "metadata": {
        "id": "UDduGH8SjRj3",
        "colab": {
          "base_uri": "https://localhost:8080/",
          "height": 430
        },
        "outputId": "f5bb0e52-ba38-41df-ff4a-ad6eacebab47",
        "trusted": true,
        "execution": {
          "iopub.status.busy": "2025-05-14T07:14:26.327157Z",
          "iopub.execute_input": "2025-05-14T07:14:26.327755Z",
          "iopub.status.idle": "2025-05-14T07:14:26.452894Z",
          "shell.execute_reply.started": "2025-05-14T07:14:26.327729Z",
          "shell.execute_reply": "2025-05-14T07:14:26.452023Z"
        }
      },
      "outputs": [
        {
          "output_type": "display_data",
          "data": {
            "text/plain": "<Figure size 640x480 with 1 Axes>",
            "image/png": "[encoded data removed]"
          },
          "metadata": {}
        }
      ],
      "execution_count": null
    },
    {
      "cell_type": "code",
      "source": [
        "plt.plot(f1_score)\n",
        "plt.show()"
      ],
      "metadata": {
        "id": "RjS3pi6sjTvA",
        "colab": {
          "base_uri": "https://localhost:8080/"
        },
        "outputId": "0214d948-6534-4f1c-dd78-8d2019e551f9",
        "trusted": true,
        "execution": {
          "iopub.status.busy": "2025-05-14T07:14:26.455221Z",
          "iopub.execute_input": "2025-05-14T07:14:26.45544Z",
          "iopub.status.idle": "2025-05-14T07:14:26.583773Z",
          "shell.execute_reply.started": "2025-05-14T07:14:26.455423Z",
          "shell.execute_reply": "2025-05-14T07:14:26.582919Z"
        }
      },
      "outputs": [
        {
          "output_type": "display_data",
          "data": {
            "text/plain": "<Figure size 640x480 with 1 Axes>",
            "image/png": "[encoded data removed]"
          },
          "metadata": {}
        }
      ],
      "execution_count": null
    },
    {
      "cell_type": "code",
      "source": [
        "!du -sh mel_spectrograms/"
      ],
      "metadata": {
        "colab": {
          "base_uri": "https://localhost:8080/"
        },
        "id": "mRkflUQwkv6g",
        "outputId": "1cb09bfb-fcc8-4978-d373-2c729f99dc27",
        "trusted": true,
        "execution": {
          "iopub.status.busy": "2025-05-14T07:18:28.250095Z",
          "iopub.execute_input": "2025-05-14T07:18:28.250377Z",
          "iopub.status.idle": "2025-05-14T07:18:28.43815Z",
          "shell.execute_reply.started": "2025-05-14T07:18:28.250354Z",
          "shell.execute_reply": "2025-05-14T07:18:28.437159Z"
        }
      },
      "outputs": [
        {
          "name": "stdout",
          "text": "1.6G\tmel_spectrograms/\n",
          "output_type": "stream"
        }
      ],
      "execution_count": null
    },
    {
      "cell_type": "code",
      "source": [
        "def evaluate(model, val_load, criterion):\n",
        "  model.eval()\n",
        "  running_loss = 0.0\n",
        "  correct, total = 0, 0\n",
        "  all_preds, all_labels = [], []\n",
        "  with torch.no_grad():\n",
        "    for sample, label in tqdm(val_load, total = len(val_load)):\n",
        "      sample = sample.to(device)\n",
        "      label = label.to(device)\n",
        "\n",
        "      with autocast(device_type='cuda'):\n",
        "        yhat = model(sample)\n",
        "        loss = criterion(yhat, label)\n",
        "\n",
        "      running_loss += loss.item() * sample.size(0)\n",
        "      preds = torch.argmax(yhat, dim=1)\n",
        "      correct += (preds == label).sum().item()\n",
        "      total += label.size(0)\n",
        "      all_preds.append(preds.cpu())\n",
        "      all_labels.append(label.cpu())\n",
        "    all_preds = torch.cat(all_preds)\n",
        "    all_labels = torch.cat(all_labels)\n",
        "    f1_score = multiclass_f1_score(all_preds, all_labels, num_classes=n_labels, average=\"macro\")\n",
        "    val_loss = running_loss / len(val_load.dataset)\n",
        "    val_acc = correct / total\n",
        "  return val_loss, val_acc, f1_score.item()\n",
        "\n",
        "loss, accuracy, f1_score = evaluate(model, val_load, criterion)"
      ],
      "metadata": {
        "colab": {
          "base_uri": "https://localhost:8080/"
        },
        "id": "3TLfIRDOk2Us",
        "outputId": "58412b82-b284-4e89-a933-77f47586184b",
        "trusted": true,
        "execution": {
          "iopub.status.busy": "2025-05-14T07:20:40.123184Z",
          "iopub.execute_input": "2025-05-14T07:20:40.123508Z",
          "iopub.status.idle": "2025-05-14T07:20:47.267858Z",
          "shell.execute_reply.started": "2025-05-14T07:20:40.123479Z",
          "shell.execute_reply": "2025-05-14T07:20:47.267026Z"
        }
      },
      "outputs": [
        {
          "name": "stderr",
          "text": "100%|██████████| 158/158 [00:07<00:00, 22.17it/s]\n",
          "output_type": "stream"
        }
      ],
      "execution_count": null
    },
    {
      "cell_type": "code",
      "source": [
        "print(loss, accuracy, f1_score)"
      ],
      "metadata": {
        "colab": {
          "base_uri": "https://localhost:8080/"
        },
        "id": "D4azPdbM3zoc",
        "outputId": "f6bea840-f411-4180-d2bf-df5e02ba5af1",
        "trusted": true,
        "execution": {
          "iopub.status.busy": "2025-05-14T07:20:51.200564Z",
          "iopub.execute_input": "2025-05-14T07:20:51.200868Z",
          "iopub.status.idle": "2025-05-14T07:20:51.205643Z",
          "shell.execute_reply.started": "2025-05-14T07:20:51.20084Z",
          "shell.execute_reply": "2025-05-14T07:20:51.205013Z"
        }
      },
      "outputs": [
        {
          "name": "stdout",
          "text": "0.2272839984946865 0.9467408585055644 0.9240623116493225\n",
          "output_type": "stream"
        }
      ],
      "execution_count": null
    },
    {
      "cell_type": "code",
      "source": [
        "torch.save(model.state_dict(), \"NonSpeech7kModel_01.pth\")"
      ],
      "metadata": {
        "id": "2w2VhOi336oK",
        "trusted": true,
        "execution": {
          "iopub.status.busy": "2025-05-14T07:21:26.47327Z",
          "iopub.execute_input": "2025-05-14T07:21:26.473761Z",
          "iopub.status.idle": "2025-05-14T07:21:26.841715Z",
          "shell.execute_reply.started": "2025-05-14T07:21:26.473738Z",
          "shell.execute_reply": "2025-05-14T07:21:26.841153Z"
        }
      },
      "outputs": [],
      "execution_count": null
    }
  ]
}