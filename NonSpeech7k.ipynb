{
  "nbformat": 4,
  "nbformat_minor": 0,
  "metadata": {
    "colab": {
      "provenance": [],
      "gpuType": "T4",
      "mount_file_id": "14lll_6243F8jNsTVEonFKPXsS_A8ZYU-",
      "authorship_tag": "ABX9TyNIHrwclwxdWRF9fl4QxZv3",
      "include_colab_link": true
    },
    "kernelspec": {
      "name": "python3",
      "display_name": "Python 3"
    },
    "language_info": {
      "name": "python"
    },
    "accelerator": "GPU"
  },
  "cells": [
    {
      "cell_type": "markdown",
      "metadata": {
        "id": "view-in-github",
        "colab_type": "text"
      },
      "source": [
        "<a href=\"https://colab.research.google.com/github/therishabhmittal-05/music/blob/main/NonSpeech7k.ipynb\" target=\"_parent\"><img src=\"https://colab.research.google.com/assets/colab-badge.svg\" alt=\"Open In Colab\"/></a>"
      ]
    },
    {
      "cell_type": "code",
      "execution_count": 36,
      "metadata": {
        "id": "mnMVqzAse_FA"
      },
      "outputs": [],
      "source": [
        "# ! unzip /content/drive/MyDrive/6967442.zip"
      ]
    },
    {
      "cell_type": "code",
      "source": [
        "# !unzip /content/train.zip"
      ],
      "metadata": {
        "id": "FGZoiS7SnfTy"
      },
      "execution_count": 35,
      "outputs": []
    },
    {
      "cell_type": "code",
      "source": [
        "import pandas as pd\n",
        "import numpy as np\n",
        "import torch\n",
        "import librosa\n",
        "import cv2\n",
        "import os\n",
        "from tqdm import tqdm\n",
        "from torch.utils.data import Dataset, DataLoader, random_split\n",
        "import matplotlib.pyplot as plt"
      ],
      "metadata": {
        "id": "WLk832PHny__"
      },
      "execution_count": 3,
      "outputs": []
    },
    {
      "cell_type": "code",
      "source": [
        "device = \"cuda\" if torch.cuda.is_available() else \"cpu\"\n",
        "device"
      ],
      "metadata": {
        "colab": {
          "base_uri": "https://localhost:8080/",
          "height": 36
        },
        "id": "rzMdI-QmoUDM",
        "outputId": "78ff4137-c334-48df-ecf6-e8f0df2f81ef"
      },
      "execution_count": 4,
      "outputs": [
        {
          "output_type": "execute_result",
          "data": {
            "text/plain": [
              "'cuda'"
            ],
            "application/vnd.google.colaboratory.intrinsic+json": {
              "type": "string"
            }
          },
          "metadata": {},
          "execution_count": 4
        }
      ]
    },
    {
      "cell_type": "code",
      "source": [
        "ds = pd.read_csv(\"/content/metadata of train set .csv\")\n",
        "ds.head()"
      ],
      "metadata": {
        "colab": {
          "base_uri": "https://localhost:8080/",
          "height": 330
        },
        "id": "hcTw8f_Wn5Vi",
        "outputId": "5617833c-03c6-4e66-bab3-9ae5957371e5"
      },
      "execution_count": 5,
      "outputs": [
        {
          "output_type": "execute_result",
          "data": {
            "text/plain": [
              "           Filename File ID  Duration in ms  Class ID Classname  \\\n",
              "0  108160-1_0_0.wav  108160            3730         0    breath   \n",
              "1  108160-2_0_0.wav  108160            4000         0    breath   \n",
              "2  108160-3_0_0.wav  108160            4000         0    breath   \n",
              "3  108160-4_0_0.wav  108160            2226         0    breath   \n",
              "4  146769-1_0_0.wav  146769            3540         0    breath   \n",
              "\n",
              "   augmentation  id Augmentation  type                  source  \n",
              "0                 0            Orignal  https://freesound.org/  \n",
              "1                 0            Orignal  https://freesound.org/  \n",
              "2                 0            Orignal  https://freesound.org/  \n",
              "3                 0            Orignal  https://freesound.org/  \n",
              "4                 0            Orignal  https://freesound.org/  "
            ],
            "text/html": [
              "\n",
              "  <div id=\"df-d2acbcad-bb0f-42a4-9147-0eab9fe908c6\" class=\"colab-df-container\">\n",
              "    <div>\n",
              "<style scoped>\n",
              "    .dataframe tbody tr th:only-of-type {\n",
              "        vertical-align: middle;\n",
              "    }\n",
              "\n",
              "    .dataframe tbody tr th {\n",
              "        vertical-align: top;\n",
              "    }\n",
              "\n",
              "    .dataframe thead th {\n",
              "        text-align: right;\n",
              "    }\n",
              "</style>\n",
              "<table border=\"1\" class=\"dataframe\">\n",
              "  <thead>\n",
              "    <tr style=\"text-align: right;\">\n",
              "      <th></th>\n",
              "      <th>Filename</th>\n",
              "      <th>File ID</th>\n",
              "      <th>Duration in ms</th>\n",
              "      <th>Class ID</th>\n",
              "      <th>Classname</th>\n",
              "      <th>augmentation  id</th>\n",
              "      <th>Augmentation  type</th>\n",
              "      <th>source</th>\n",
              "    </tr>\n",
              "  </thead>\n",
              "  <tbody>\n",
              "    <tr>\n",
              "      <th>0</th>\n",
              "      <td>108160-1_0_0.wav</td>\n",
              "      <td>108160</td>\n",
              "      <td>3730</td>\n",
              "      <td>0</td>\n",
              "      <td>breath</td>\n",
              "      <td>0</td>\n",
              "      <td>Orignal</td>\n",
              "      <td>https://freesound.org/</td>\n",
              "    </tr>\n",
              "    <tr>\n",
              "      <th>1</th>\n",
              "      <td>108160-2_0_0.wav</td>\n",
              "      <td>108160</td>\n",
              "      <td>4000</td>\n",
              "      <td>0</td>\n",
              "      <td>breath</td>\n",
              "      <td>0</td>\n",
              "      <td>Orignal</td>\n",
              "      <td>https://freesound.org/</td>\n",
              "    </tr>\n",
              "    <tr>\n",
              "      <th>2</th>\n",
              "      <td>108160-3_0_0.wav</td>\n",
              "      <td>108160</td>\n",
              "      <td>4000</td>\n",
              "      <td>0</td>\n",
              "      <td>breath</td>\n",
              "      <td>0</td>\n",
              "      <td>Orignal</td>\n",
              "      <td>https://freesound.org/</td>\n",
              "    </tr>\n",
              "    <tr>\n",
              "      <th>3</th>\n",
              "      <td>108160-4_0_0.wav</td>\n",
              "      <td>108160</td>\n",
              "      <td>2226</td>\n",
              "      <td>0</td>\n",
              "      <td>breath</td>\n",
              "      <td>0</td>\n",
              "      <td>Orignal</td>\n",
              "      <td>https://freesound.org/</td>\n",
              "    </tr>\n",
              "    <tr>\n",
              "      <th>4</th>\n",
              "      <td>146769-1_0_0.wav</td>\n",
              "      <td>146769</td>\n",
              "      <td>3540</td>\n",
              "      <td>0</td>\n",
              "      <td>breath</td>\n",
              "      <td>0</td>\n",
              "      <td>Orignal</td>\n",
              "      <td>https://freesound.org/</td>\n",
              "    </tr>\n",
              "  </tbody>\n",
              "</table>\n",
              "</div>\n",
              "    <div class=\"colab-df-buttons\">\n",
              "\n",
              "  <div class=\"colab-df-container\">\n",
              "    <button class=\"colab-df-convert\" onclick=\"convertToInteractive('df-d2acbcad-bb0f-42a4-9147-0eab9fe908c6')\"\n",
              "            title=\"Convert this dataframe to an interactive table.\"\n",
              "            style=\"display:none;\">\n",
              "\n",
              "  <svg xmlns=\"http://www.w3.org/2000/svg\" height=\"24px\" viewBox=\"0 -960 960 960\">\n",
              "    <path d=\"M120-120v-720h720v720H120Zm60-500h600v-160H180v160Zm220 220h160v-160H400v160Zm0 220h160v-160H400v160ZM180-400h160v-160H180v160Zm440 0h160v-160H620v160ZM180-180h160v-160H180v160Zm440 0h160v-160H620v160Z\"/>\n",
              "  </svg>\n",
              "    </button>\n",
              "\n",
              "  <style>\n",
              "    .colab-df-container {\n",
              "      display:flex;\n",
              "      gap: 12px;\n",
              "    }\n",
              "\n",
              "    .colab-df-convert {\n",
              "      background-color: #E8F0FE;\n",
              "      border: none;\n",
              "      border-radius: 50%;\n",
              "      cursor: pointer;\n",
              "      display: none;\n",
              "      fill: #1967D2;\n",
              "      height: 32px;\n",
              "      padding: 0 0 0 0;\n",
              "      width: 32px;\n",
              "    }\n",
              "\n",
              "    .colab-df-convert:hover {\n",
              "      background-color: #E2EBFA;\n",
              "      box-shadow: 0px 1px 2px rgba(60, 64, 67, 0.3), 0px 1px 3px 1px rgba(60, 64, 67, 0.15);\n",
              "      fill: #174EA6;\n",
              "    }\n",
              "\n",
              "    .colab-df-buttons div {\n",
              "      margin-bottom: 4px;\n",
              "    }\n",
              "\n",
              "    [theme=dark] .colab-df-convert {\n",
              "      background-color: #3B4455;\n",
              "      fill: #D2E3FC;\n",
              "    }\n",
              "\n",
              "    [theme=dark] .colab-df-convert:hover {\n",
              "      background-color: #434B5C;\n",
              "      box-shadow: 0px 1px 3px 1px rgba(0, 0, 0, 0.15);\n",
              "      filter: drop-shadow(0px 1px 2px rgba(0, 0, 0, 0.3));\n",
              "      fill: #FFFFFF;\n",
              "    }\n",
              "  </style>\n",
              "\n",
              "    <script>\n",
              "      const buttonEl =\n",
              "        document.querySelector('#df-d2acbcad-bb0f-42a4-9147-0eab9fe908c6 button.colab-df-convert');\n",
              "      buttonEl.style.display =\n",
              "        google.colab.kernel.accessAllowed ? 'block' : 'none';\n",
              "\n",
              "      async function convertToInteractive(key) {\n",
              "        const element = document.querySelector('#df-d2acbcad-bb0f-42a4-9147-0eab9fe908c6');\n",
              "        const dataTable =\n",
              "          await google.colab.kernel.invokeFunction('convertToInteractive',\n",
              "                                                    [key], {});\n",
              "        if (!dataTable) return;\n",
              "\n",
              "        const docLinkHtml = 'Like what you see? Visit the ' +\n",
              "          '<a target=\"_blank\" href=https://colab.research.google.com/notebooks/data_table.ipynb>data table notebook</a>'\n",
              "          + ' to learn more about interactive tables.';\n",
              "        element.innerHTML = '';\n",
              "        dataTable['output_type'] = 'display_data';\n",
              "        await google.colab.output.renderOutput(dataTable, element);\n",
              "        const docLink = document.createElement('div');\n",
              "        docLink.innerHTML = docLinkHtml;\n",
              "        element.appendChild(docLink);\n",
              "      }\n",
              "    </script>\n",
              "  </div>\n",
              "\n",
              "\n",
              "    <div id=\"df-57b72175-d6c1-4df4-958b-aa93468cb8ee\">\n",
              "      <button class=\"colab-df-quickchart\" onclick=\"quickchart('df-57b72175-d6c1-4df4-958b-aa93468cb8ee')\"\n",
              "                title=\"Suggest charts\"\n",
              "                style=\"display:none;\">\n",
              "\n",
              "<svg xmlns=\"http://www.w3.org/2000/svg\" height=\"24px\"viewBox=\"0 0 24 24\"\n",
              "     width=\"24px\">\n",
              "    <g>\n",
              "        <path d=\"M19 3H5c-1.1 0-2 .9-2 2v14c0 1.1.9 2 2 2h14c1.1 0 2-.9 2-2V5c0-1.1-.9-2-2-2zM9 17H7v-7h2v7zm4 0h-2V7h2v10zm4 0h-2v-4h2v4z\"/>\n",
              "    </g>\n",
              "</svg>\n",
              "      </button>\n",
              "\n",
              "<style>\n",
              "  .colab-df-quickchart {\n",
              "      --bg-color: #E8F0FE;\n",
              "      --fill-color: #1967D2;\n",
              "      --hover-bg-color: #E2EBFA;\n",
              "      --hover-fill-color: #174EA6;\n",
              "      --disabled-fill-color: #AAA;\n",
              "      --disabled-bg-color: #DDD;\n",
              "  }\n",
              "\n",
              "  [theme=dark] .colab-df-quickchart {\n",
              "      --bg-color: #3B4455;\n",
              "      --fill-color: #D2E3FC;\n",
              "      --hover-bg-color: #434B5C;\n",
              "      --hover-fill-color: #FFFFFF;\n",
              "      --disabled-bg-color: #3B4455;\n",
              "      --disabled-fill-color: #666;\n",
              "  }\n",
              "\n",
              "  .colab-df-quickchart {\n",
              "    background-color: var(--bg-color);\n",
              "    border: none;\n",
              "    border-radius: 50%;\n",
              "    cursor: pointer;\n",
              "    display: none;\n",
              "    fill: var(--fill-color);\n",
              "    height: 32px;\n",
              "    padding: 0;\n",
              "    width: 32px;\n",
              "  }\n",
              "\n",
              "  .colab-df-quickchart:hover {\n",
              "    background-color: var(--hover-bg-color);\n",
              "    box-shadow: 0 1px 2px rgba(60, 64, 67, 0.3), 0 1px 3px 1px rgba(60, 64, 67, 0.15);\n",
              "    fill: var(--button-hover-fill-color);\n",
              "  }\n",
              "\n",
              "  .colab-df-quickchart-complete:disabled,\n",
              "  .colab-df-quickchart-complete:disabled:hover {\n",
              "    background-color: var(--disabled-bg-color);\n",
              "    fill: var(--disabled-fill-color);\n",
              "    box-shadow: none;\n",
              "  }\n",
              "\n",
              "  .colab-df-spinner {\n",
              "    border: 2px solid var(--fill-color);\n",
              "    border-color: transparent;\n",
              "    border-bottom-color: var(--fill-color);\n",
              "    animation:\n",
              "      spin 1s steps(1) infinite;\n",
              "  }\n",
              "\n",
              "  @keyframes spin {\n",
              "    0% {\n",
              "      border-color: transparent;\n",
              "      border-bottom-color: var(--fill-color);\n",
              "      border-left-color: var(--fill-color);\n",
              "    }\n",
              "    20% {\n",
              "      border-color: transparent;\n",
              "      border-left-color: var(--fill-color);\n",
              "      border-top-color: var(--fill-color);\n",
              "    }\n",
              "    30% {\n",
              "      border-color: transparent;\n",
              "      border-left-color: var(--fill-color);\n",
              "      border-top-color: var(--fill-color);\n",
              "      border-right-color: var(--fill-color);\n",
              "    }\n",
              "    40% {\n",
              "      border-color: transparent;\n",
              "      border-right-color: var(--fill-color);\n",
              "      border-top-color: var(--fill-color);\n",
              "    }\n",
              "    60% {\n",
              "      border-color: transparent;\n",
              "      border-right-color: var(--fill-color);\n",
              "    }\n",
              "    80% {\n",
              "      border-color: transparent;\n",
              "      border-right-color: var(--fill-color);\n",
              "      border-bottom-color: var(--fill-color);\n",
              "    }\n",
              "    90% {\n",
              "      border-color: transparent;\n",
              "      border-bottom-color: var(--fill-color);\n",
              "    }\n",
              "  }\n",
              "</style>\n",
              "\n",
              "      <script>\n",
              "        async function quickchart(key) {\n",
              "          const quickchartButtonEl =\n",
              "            document.querySelector('#' + key + ' button');\n",
              "          quickchartButtonEl.disabled = true;  // To prevent multiple clicks.\n",
              "          quickchartButtonEl.classList.add('colab-df-spinner');\n",
              "          try {\n",
              "            const charts = await google.colab.kernel.invokeFunction(\n",
              "                'suggestCharts', [key], {});\n",
              "          } catch (error) {\n",
              "            console.error('Error during call to suggestCharts:', error);\n",
              "          }\n",
              "          quickchartButtonEl.classList.remove('colab-df-spinner');\n",
              "          quickchartButtonEl.classList.add('colab-df-quickchart-complete');\n",
              "        }\n",
              "        (() => {\n",
              "          let quickchartButtonEl =\n",
              "            document.querySelector('#df-57b72175-d6c1-4df4-958b-aa93468cb8ee button');\n",
              "          quickchartButtonEl.style.display =\n",
              "            google.colab.kernel.accessAllowed ? 'block' : 'none';\n",
              "        })();\n",
              "      </script>\n",
              "    </div>\n",
              "\n",
              "    </div>\n",
              "  </div>\n"
            ],
            "application/vnd.google.colaboratory.intrinsic+json": {
              "type": "dataframe",
              "variable_name": "ds",
              "summary": "{\n  \"name\": \"ds\",\n  \"rows\": 6289,\n  \"fields\": [\n    {\n      \"column\": \"Filename\",\n      \"properties\": {\n        \"dtype\": \"string\",\n        \"num_unique_values\": 6289,\n        \"samples\": [\n          \"367099-1_3_0.wav\",\n          \"581=272093-2_2_0.wav\",\n          \"FXJlxzeVgSw-2_5_0.wav\"\n        ],\n        \"semantic_type\": \"\",\n        \"description\": \"\"\n      }\n    },\n    {\n      \"column\": \"File ID\",\n      \"properties\": {\n        \"dtype\": \"category\",\n        \"num_unique_values\": 1903,\n        \"samples\": [\n          \"275170\",\n          \"434076\",\n          \"167=uouMndiZtDc\"\n        ],\n        \"semantic_type\": \"\",\n        \"description\": \"\"\n      }\n    },\n    {\n      \"column\": \"Duration in ms\",\n      \"properties\": {\n        \"dtype\": \"number\",\n        \"std\": 841,\n        \"min\": 510,\n        \"max\": 4000,\n        \"num_unique_values\": 803,\n        \"samples\": [\n          610,\n          748,\n          2420\n        ],\n        \"semantic_type\": \"\",\n        \"description\": \"\"\n      }\n    },\n    {\n      \"column\": \"Class ID\",\n      \"properties\": {\n        \"dtype\": \"number\",\n        \"std\": 1,\n        \"min\": 0,\n        \"max\": 6,\n        \"num_unique_values\": 7,\n        \"samples\": [\n          0,\n          1,\n          5\n        ],\n        \"semantic_type\": \"\",\n        \"description\": \"\"\n      }\n    },\n    {\n      \"column\": \"Classname\",\n      \"properties\": {\n        \"dtype\": \"category\",\n        \"num_unique_values\": 7,\n        \"samples\": [\n          \"breath\",\n          \"cough\",\n          \"sneeze\"\n        ],\n        \"semantic_type\": \"\",\n        \"description\": \"\"\n      }\n    },\n    {\n      \"column\": \"augmentation  id\",\n      \"properties\": {\n        \"dtype\": \"number\",\n        \"std\": 0,\n        \"min\": 0,\n        \"max\": 0,\n        \"num_unique_values\": 1,\n        \"samples\": [\n          0\n        ],\n        \"semantic_type\": \"\",\n        \"description\": \"\"\n      }\n    },\n    {\n      \"column\": \"Augmentation  type\",\n      \"properties\": {\n        \"dtype\": \"category\",\n        \"num_unique_values\": 1,\n        \"samples\": [\n          \"Orignal\"\n        ],\n        \"semantic_type\": \"\",\n        \"description\": \"\"\n      }\n    },\n    {\n      \"column\": \"source\",\n      \"properties\": {\n        \"dtype\": \"category\",\n        \"num_unique_values\": 3,\n        \"samples\": [\n          \"https://freesound.org/\"\n        ],\n        \"semantic_type\": \"\",\n        \"description\": \"\"\n      }\n    }\n  ]\n}"
            }
          },
          "metadata": {},
          "execution_count": 5
        }
      ]
    },
    {
      "cell_type": "code",
      "source": [
        "class_ind = {\n",
        "    'breath' : 0,\n",
        "    'cough' : 1,\n",
        "    'crying' : 2,\n",
        "    'laugh' : 3,\n",
        "    'screaming' : 4,\n",
        "    'sneeze' : 5,\n",
        "    'yawn' : 6\n",
        "}\n",
        "def class_index(ds):\n",
        "  ds['label'] = ds.Classname.map(class_ind)\n",
        "\n",
        "class_index(ds)\n",
        "n_labels = len(class_ind)"
      ],
      "metadata": {
        "id": "ggh0eRQLyhyq"
      },
      "execution_count": 6,
      "outputs": []
    },
    {
      "cell_type": "code",
      "source": [
        "ds.head()"
      ],
      "metadata": {
        "colab": {
          "base_uri": "https://localhost:8080/",
          "height": 330
        },
        "id": "XpMmi3ZUAqiw",
        "outputId": "80cdda95-901f-4ba4-8fe9-8938f00a3272"
      },
      "execution_count": 7,
      "outputs": [
        {
          "output_type": "execute_result",
          "data": {
            "text/plain": [
              "           Filename File ID  Duration in ms  Class ID Classname  \\\n",
              "0  108160-1_0_0.wav  108160            3730         0    breath   \n",
              "1  108160-2_0_0.wav  108160            4000         0    breath   \n",
              "2  108160-3_0_0.wav  108160            4000         0    breath   \n",
              "3  108160-4_0_0.wav  108160            2226         0    breath   \n",
              "4  146769-1_0_0.wav  146769            3540         0    breath   \n",
              "\n",
              "   augmentation  id Augmentation  type                  source  label  \n",
              "0                 0            Orignal  https://freesound.org/      0  \n",
              "1                 0            Orignal  https://freesound.org/      0  \n",
              "2                 0            Orignal  https://freesound.org/      0  \n",
              "3                 0            Orignal  https://freesound.org/      0  \n",
              "4                 0            Orignal  https://freesound.org/      0  "
            ],
            "text/html": [
              "\n",
              "  <div id=\"df-bc38259c-4470-445a-a6f0-471972bfaf09\" class=\"colab-df-container\">\n",
              "    <div>\n",
              "<style scoped>\n",
              "    .dataframe tbody tr th:only-of-type {\n",
              "        vertical-align: middle;\n",
              "    }\n",
              "\n",
              "    .dataframe tbody tr th {\n",
              "        vertical-align: top;\n",
              "    }\n",
              "\n",
              "    .dataframe thead th {\n",
              "        text-align: right;\n",
              "    }\n",
              "</style>\n",
              "<table border=\"1\" class=\"dataframe\">\n",
              "  <thead>\n",
              "    <tr style=\"text-align: right;\">\n",
              "      <th></th>\n",
              "      <th>Filename</th>\n",
              "      <th>File ID</th>\n",
              "      <th>Duration in ms</th>\n",
              "      <th>Class ID</th>\n",
              "      <th>Classname</th>\n",
              "      <th>augmentation  id</th>\n",
              "      <th>Augmentation  type</th>\n",
              "      <th>source</th>\n",
              "      <th>label</th>\n",
              "    </tr>\n",
              "  </thead>\n",
              "  <tbody>\n",
              "    <tr>\n",
              "      <th>0</th>\n",
              "      <td>108160-1_0_0.wav</td>\n",
              "      <td>108160</td>\n",
              "      <td>3730</td>\n",
              "      <td>0</td>\n",
              "      <td>breath</td>\n",
              "      <td>0</td>\n",
              "      <td>Orignal</td>\n",
              "      <td>https://freesound.org/</td>\n",
              "      <td>0</td>\n",
              "    </tr>\n",
              "    <tr>\n",
              "      <th>1</th>\n",
              "      <td>108160-2_0_0.wav</td>\n",
              "      <td>108160</td>\n",
              "      <td>4000</td>\n",
              "      <td>0</td>\n",
              "      <td>breath</td>\n",
              "      <td>0</td>\n",
              "      <td>Orignal</td>\n",
              "      <td>https://freesound.org/</td>\n",
              "      <td>0</td>\n",
              "    </tr>\n",
              "    <tr>\n",
              "      <th>2</th>\n",
              "      <td>108160-3_0_0.wav</td>\n",
              "      <td>108160</td>\n",
              "      <td>4000</td>\n",
              "      <td>0</td>\n",
              "      <td>breath</td>\n",
              "      <td>0</td>\n",
              "      <td>Orignal</td>\n",
              "      <td>https://freesound.org/</td>\n",
              "      <td>0</td>\n",
              "    </tr>\n",
              "    <tr>\n",
              "      <th>3</th>\n",
              "      <td>108160-4_0_0.wav</td>\n",
              "      <td>108160</td>\n",
              "      <td>2226</td>\n",
              "      <td>0</td>\n",
              "      <td>breath</td>\n",
              "      <td>0</td>\n",
              "      <td>Orignal</td>\n",
              "      <td>https://freesound.org/</td>\n",
              "      <td>0</td>\n",
              "    </tr>\n",
              "    <tr>\n",
              "      <th>4</th>\n",
              "      <td>146769-1_0_0.wav</td>\n",
              "      <td>146769</td>\n",
              "      <td>3540</td>\n",
              "      <td>0</td>\n",
              "      <td>breath</td>\n",
              "      <td>0</td>\n",
              "      <td>Orignal</td>\n",
              "      <td>https://freesound.org/</td>\n",
              "      <td>0</td>\n",
              "    </tr>\n",
              "  </tbody>\n",
              "</table>\n",
              "</div>\n",
              "    <div class=\"colab-df-buttons\">\n",
              "\n",
              "  <div class=\"colab-df-container\">\n",
              "    <button class=\"colab-df-convert\" onclick=\"convertToInteractive('df-bc38259c-4470-445a-a6f0-471972bfaf09')\"\n",
              "            title=\"Convert this dataframe to an interactive table.\"\n",
              "            style=\"display:none;\">\n",
              "\n",
              "  <svg xmlns=\"http://www.w3.org/2000/svg\" height=\"24px\" viewBox=\"0 -960 960 960\">\n",
              "    <path d=\"M120-120v-720h720v720H120Zm60-500h600v-160H180v160Zm220 220h160v-160H400v160Zm0 220h160v-160H400v160ZM180-400h160v-160H180v160Zm440 0h160v-160H620v160ZM180-180h160v-160H180v160Zm440 0h160v-160H620v160Z\"/>\n",
              "  </svg>\n",
              "    </button>\n",
              "\n",
              "  <style>\n",
              "    .colab-df-container {\n",
              "      display:flex;\n",
              "      gap: 12px;\n",
              "    }\n",
              "\n",
              "    .colab-df-convert {\n",
              "      background-color: #E8F0FE;\n",
              "      border: none;\n",
              "      border-radius: 50%;\n",
              "      cursor: pointer;\n",
              "      display: none;\n",
              "      fill: #1967D2;\n",
              "      height: 32px;\n",
              "      padding: 0 0 0 0;\n",
              "      width: 32px;\n",
              "    }\n",
              "\n",
              "    .colab-df-convert:hover {\n",
              "      background-color: #E2EBFA;\n",
              "      box-shadow: 0px 1px 2px rgba(60, 64, 67, 0.3), 0px 1px 3px 1px rgba(60, 64, 67, 0.15);\n",
              "      fill: #174EA6;\n",
              "    }\n",
              "\n",
              "    .colab-df-buttons div {\n",
              "      margin-bottom: 4px;\n",
              "    }\n",
              "\n",
              "    [theme=dark] .colab-df-convert {\n",
              "      background-color: #3B4455;\n",
              "      fill: #D2E3FC;\n",
              "    }\n",
              "\n",
              "    [theme=dark] .colab-df-convert:hover {\n",
              "      background-color: #434B5C;\n",
              "      box-shadow: 0px 1px 3px 1px rgba(0, 0, 0, 0.15);\n",
              "      filter: drop-shadow(0px 1px 2px rgba(0, 0, 0, 0.3));\n",
              "      fill: #FFFFFF;\n",
              "    }\n",
              "  </style>\n",
              "\n",
              "    <script>\n",
              "      const buttonEl =\n",
              "        document.querySelector('#df-bc38259c-4470-445a-a6f0-471972bfaf09 button.colab-df-convert');\n",
              "      buttonEl.style.display =\n",
              "        google.colab.kernel.accessAllowed ? 'block' : 'none';\n",
              "\n",
              "      async function convertToInteractive(key) {\n",
              "        const element = document.querySelector('#df-bc38259c-4470-445a-a6f0-471972bfaf09');\n",
              "        const dataTable =\n",
              "          await google.colab.kernel.invokeFunction('convertToInteractive',\n",
              "                                                    [key], {});\n",
              "        if (!dataTable) return;\n",
              "\n",
              "        const docLinkHtml = 'Like what you see? Visit the ' +\n",
              "          '<a target=\"_blank\" href=https://colab.research.google.com/notebooks/data_table.ipynb>data table notebook</a>'\n",
              "          + ' to learn more about interactive tables.';\n",
              "        element.innerHTML = '';\n",
              "        dataTable['output_type'] = 'display_data';\n",
              "        await google.colab.output.renderOutput(dataTable, element);\n",
              "        const docLink = document.createElement('div');\n",
              "        docLink.innerHTML = docLinkHtml;\n",
              "        element.appendChild(docLink);\n",
              "      }\n",
              "    </script>\n",
              "  </div>\n",
              "\n",
              "\n",
              "    <div id=\"df-104405d1-ca9e-49c9-8262-589b3ee12437\">\n",
              "      <button class=\"colab-df-quickchart\" onclick=\"quickchart('df-104405d1-ca9e-49c9-8262-589b3ee12437')\"\n",
              "                title=\"Suggest charts\"\n",
              "                style=\"display:none;\">\n",
              "\n",
              "<svg xmlns=\"http://www.w3.org/2000/svg\" height=\"24px\"viewBox=\"0 0 24 24\"\n",
              "     width=\"24px\">\n",
              "    <g>\n",
              "        <path d=\"M19 3H5c-1.1 0-2 .9-2 2v14c0 1.1.9 2 2 2h14c1.1 0 2-.9 2-2V5c0-1.1-.9-2-2-2zM9 17H7v-7h2v7zm4 0h-2V7h2v10zm4 0h-2v-4h2v4z\"/>\n",
              "    </g>\n",
              "</svg>\n",
              "      </button>\n",
              "\n",
              "<style>\n",
              "  .colab-df-quickchart {\n",
              "      --bg-color: #E8F0FE;\n",
              "      --fill-color: #1967D2;\n",
              "      --hover-bg-color: #E2EBFA;\n",
              "      --hover-fill-color: #174EA6;\n",
              "      --disabled-fill-color: #AAA;\n",
              "      --disabled-bg-color: #DDD;\n",
              "  }\n",
              "\n",
              "  [theme=dark] .colab-df-quickchart {\n",
              "      --bg-color: #3B4455;\n",
              "      --fill-color: #D2E3FC;\n",
              "      --hover-bg-color: #434B5C;\n",
              "      --hover-fill-color: #FFFFFF;\n",
              "      --disabled-bg-color: #3B4455;\n",
              "      --disabled-fill-color: #666;\n",
              "  }\n",
              "\n",
              "  .colab-df-quickchart {\n",
              "    background-color: var(--bg-color);\n",
              "    border: none;\n",
              "    border-radius: 50%;\n",
              "    cursor: pointer;\n",
              "    display: none;\n",
              "    fill: var(--fill-color);\n",
              "    height: 32px;\n",
              "    padding: 0;\n",
              "    width: 32px;\n",
              "  }\n",
              "\n",
              "  .colab-df-quickchart:hover {\n",
              "    background-color: var(--hover-bg-color);\n",
              "    box-shadow: 0 1px 2px rgba(60, 64, 67, 0.3), 0 1px 3px 1px rgba(60, 64, 67, 0.15);\n",
              "    fill: var(--button-hover-fill-color);\n",
              "  }\n",
              "\n",
              "  .colab-df-quickchart-complete:disabled,\n",
              "  .colab-df-quickchart-complete:disabled:hover {\n",
              "    background-color: var(--disabled-bg-color);\n",
              "    fill: var(--disabled-fill-color);\n",
              "    box-shadow: none;\n",
              "  }\n",
              "\n",
              "  .colab-df-spinner {\n",
              "    border: 2px solid var(--fill-color);\n",
              "    border-color: transparent;\n",
              "    border-bottom-color: var(--fill-color);\n",
              "    animation:\n",
              "      spin 1s steps(1) infinite;\n",
              "  }\n",
              "\n",
              "  @keyframes spin {\n",
              "    0% {\n",
              "      border-color: transparent;\n",
              "      border-bottom-color: var(--fill-color);\n",
              "      border-left-color: var(--fill-color);\n",
              "    }\n",
              "    20% {\n",
              "      border-color: transparent;\n",
              "      border-left-color: var(--fill-color);\n",
              "      border-top-color: var(--fill-color);\n",
              "    }\n",
              "    30% {\n",
              "      border-color: transparent;\n",
              "      border-left-color: var(--fill-color);\n",
              "      border-top-color: var(--fill-color);\n",
              "      border-right-color: var(--fill-color);\n",
              "    }\n",
              "    40% {\n",
              "      border-color: transparent;\n",
              "      border-right-color: var(--fill-color);\n",
              "      border-top-color: var(--fill-color);\n",
              "    }\n",
              "    60% {\n",
              "      border-color: transparent;\n",
              "      border-right-color: var(--fill-color);\n",
              "    }\n",
              "    80% {\n",
              "      border-color: transparent;\n",
              "      border-right-color: var(--fill-color);\n",
              "      border-bottom-color: var(--fill-color);\n",
              "    }\n",
              "    90% {\n",
              "      border-color: transparent;\n",
              "      border-bottom-color: var(--fill-color);\n",
              "    }\n",
              "  }\n",
              "</style>\n",
              "\n",
              "      <script>\n",
              "        async function quickchart(key) {\n",
              "          const quickchartButtonEl =\n",
              "            document.querySelector('#' + key + ' button');\n",
              "          quickchartButtonEl.disabled = true;  // To prevent multiple clicks.\n",
              "          quickchartButtonEl.classList.add('colab-df-spinner');\n",
              "          try {\n",
              "            const charts = await google.colab.kernel.invokeFunction(\n",
              "                'suggestCharts', [key], {});\n",
              "          } catch (error) {\n",
              "            console.error('Error during call to suggestCharts:', error);\n",
              "          }\n",
              "          quickchartButtonEl.classList.remove('colab-df-spinner');\n",
              "          quickchartButtonEl.classList.add('colab-df-quickchart-complete');\n",
              "        }\n",
              "        (() => {\n",
              "          let quickchartButtonEl =\n",
              "            document.querySelector('#df-104405d1-ca9e-49c9-8262-589b3ee12437 button');\n",
              "          quickchartButtonEl.style.display =\n",
              "            google.colab.kernel.accessAllowed ? 'block' : 'none';\n",
              "        })();\n",
              "      </script>\n",
              "    </div>\n",
              "\n",
              "    </div>\n",
              "  </div>\n"
            ],
            "application/vnd.google.colaboratory.intrinsic+json": {
              "type": "dataframe",
              "variable_name": "ds",
              "summary": "{\n  \"name\": \"ds\",\n  \"rows\": 6289,\n  \"fields\": [\n    {\n      \"column\": \"Filename\",\n      \"properties\": {\n        \"dtype\": \"string\",\n        \"num_unique_values\": 6289,\n        \"samples\": [\n          \"367099-1_3_0.wav\",\n          \"581=272093-2_2_0.wav\",\n          \"FXJlxzeVgSw-2_5_0.wav\"\n        ],\n        \"semantic_type\": \"\",\n        \"description\": \"\"\n      }\n    },\n    {\n      \"column\": \"File ID\",\n      \"properties\": {\n        \"dtype\": \"category\",\n        \"num_unique_values\": 1903,\n        \"samples\": [\n          \"275170\",\n          \"434076\",\n          \"167=uouMndiZtDc\"\n        ],\n        \"semantic_type\": \"\",\n        \"description\": \"\"\n      }\n    },\n    {\n      \"column\": \"Duration in ms\",\n      \"properties\": {\n        \"dtype\": \"number\",\n        \"std\": 841,\n        \"min\": 510,\n        \"max\": 4000,\n        \"num_unique_values\": 803,\n        \"samples\": [\n          610,\n          748,\n          2420\n        ],\n        \"semantic_type\": \"\",\n        \"description\": \"\"\n      }\n    },\n    {\n      \"column\": \"Class ID\",\n      \"properties\": {\n        \"dtype\": \"number\",\n        \"std\": 1,\n        \"min\": 0,\n        \"max\": 6,\n        \"num_unique_values\": 7,\n        \"samples\": [\n          0,\n          1,\n          5\n        ],\n        \"semantic_type\": \"\",\n        \"description\": \"\"\n      }\n    },\n    {\n      \"column\": \"Classname\",\n      \"properties\": {\n        \"dtype\": \"category\",\n        \"num_unique_values\": 7,\n        \"samples\": [\n          \"breath\",\n          \"cough\",\n          \"sneeze\"\n        ],\n        \"semantic_type\": \"\",\n        \"description\": \"\"\n      }\n    },\n    {\n      \"column\": \"augmentation  id\",\n      \"properties\": {\n        \"dtype\": \"number\",\n        \"std\": 0,\n        \"min\": 0,\n        \"max\": 0,\n        \"num_unique_values\": 1,\n        \"samples\": [\n          0\n        ],\n        \"semantic_type\": \"\",\n        \"description\": \"\"\n      }\n    },\n    {\n      \"column\": \"Augmentation  type\",\n      \"properties\": {\n        \"dtype\": \"category\",\n        \"num_unique_values\": 1,\n        \"samples\": [\n          \"Orignal\"\n        ],\n        \"semantic_type\": \"\",\n        \"description\": \"\"\n      }\n    },\n    {\n      \"column\": \"source\",\n      \"properties\": {\n        \"dtype\": \"category\",\n        \"num_unique_values\": 3,\n        \"samples\": [\n          \"https://freesound.org/\"\n        ],\n        \"semantic_type\": \"\",\n        \"description\": \"\"\n      }\n    },\n    {\n      \"column\": \"label\",\n      \"properties\": {\n        \"dtype\": \"number\",\n        \"std\": 1,\n        \"min\": 0,\n        \"max\": 6,\n        \"num_unique_values\": 7,\n        \"samples\": [\n          0\n        ],\n        \"semantic_type\": \"\",\n        \"description\": \"\"\n      }\n    }\n  ]\n}"
            }
          },
          "metadata": {},
          "execution_count": 7
        }
      ]
    },
    {
      "cell_type": "code",
      "source": [
        "class config:\n",
        "  in_dir = \"/content/train/\"\n",
        "  out_dir = \"/content/mel_spectrograms/\"\n",
        "  sr = 32000\n",
        "  n_fft = 1024\n",
        "  hop_length = 256\n",
        "  n_mels = 128\n",
        "  fmin = 20\n",
        "  fmax = 16000\n",
        "  t_shape = (256, 256)"
      ],
      "metadata": {
        "id": "s212nCpuoHk9"
      },
      "execution_count": 8,
      "outputs": []
    },
    {
      "cell_type": "code",
      "source": [
        "# import IPython.display as ip\n",
        "# audio = config.in_dir + ds.Filename[0]\n",
        "# label = ds.Classname[0]\n",
        "# print(label)\n",
        "# print(audio)\n",
        "# ip.Audio(audio)"
      ],
      "metadata": {
        "id": "beRjgPdWqouZ"
      },
      "execution_count": 9,
      "outputs": []
    },
    {
      "cell_type": "code",
      "source": [
        "# y, sr = librosa.load(audio)\n",
        "\n",
        "# mel = librosa.feature.melspectrogram(\n",
        "#     y=y,\n",
        "#     sr = config.sr,\n",
        "#     n_fft = config.n_fft,\n",
        "#     hop_length = config.hop_length,\n",
        "#     n_mels = config.n_mels,\n",
        "#     fmin = config.fmin,\n",
        "#     fmax = config.fmax\n",
        "# )\n",
        "# mel = librosa.power_to_db(mel, ref = np.max)\n",
        "# librosa.display.specshow(mel)\n",
        "# print(label)\n",
        "# print(mel.shape)"
      ],
      "metadata": {
        "id": "YV1zjG3-rM5f"
      },
      "execution_count": 10,
      "outputs": []
    },
    {
      "cell_type": "code",
      "source": [
        "# mel = get_mel(audio)\n",
        "# librosa.display.specshow(mel)"
      ],
      "metadata": {
        "id": "J33ysMnftbAH"
      },
      "execution_count": 11,
      "outputs": []
    },
    {
      "cell_type": "code",
      "source": [
        "def get_mel(y):\n",
        "  mel = librosa.feature.melspectrogram(\n",
        "      y=y,\n",
        "      sr = config.sr,\n",
        "      n_fft = config.n_fft,\n",
        "      hop_length = config.hop_length,\n",
        "      n_mels = config.n_mels,\n",
        "      fmin = config.fmin,\n",
        "      fmax = config.fmax\n",
        "  )\n",
        "  mel = librosa.power_to_db(mel, ref = np.max)\n",
        "  mel = (mel - mel.min()) / (mel.max() - mel.min() + 1e-8)\n",
        "  return mel"
      ],
      "metadata": {
        "id": "n2e1T1YfsN4x"
      },
      "execution_count": 12,
      "outputs": []
    },
    {
      "cell_type": "code",
      "source": [
        "for i, row in tqdm(ds.iterrows(), total=len(ds)):\n",
        "  audio = config.in_dir + row.Filename\n",
        "  y, _ = librosa.load(audio)\n",
        "  mel = get_mel(y)\n",
        "  if mel.shape != config.t_shape:\n",
        "    mel = cv2.resize(mel, config.t_shape, interpolation = cv2.INTER_LINEAR)\n",
        "  out_path = f\"{config.out_dir}{row.Classname}_{row.label}_{i}.npy\"\n",
        "  np.save(out_path, mel.astype(np.float32))"
      ],
      "metadata": {
        "colab": {
          "base_uri": "https://localhost:8080/"
        },
        "id": "szg9laUxyj3z",
        "outputId": "585bedcc-a9af-4652-cb49-375e4ca44b82"
      },
      "execution_count": 14,
      "outputs": [
        {
          "output_type": "stream",
          "name": "stderr",
          "text": [
            "100%|██████████| 6289/6289 [02:04<00:00, 50.71it/s]\n"
          ]
        }
      ]
    },
    {
      "cell_type": "code",
      "source": [
        "test = config.out_dir + os.listdir(config.out_dir)[1]\n",
        "mel = np.load(test)\n",
        "print(mel)\n",
        "print(os.path.basename(test).split('_')[0])\n",
        "librosa.display.specshow(mel)"
      ],
      "metadata": {
        "colab": {
          "base_uri": "https://localhost:8080/",
          "height": 562
        },
        "id": "InTh3GPu9kyX",
        "outputId": "8c9c5ee6-8395-4c1b-937b-2dfa4710cfe8"
      },
      "execution_count": 15,
      "outputs": [
        {
          "output_type": "stream",
          "name": "stdout",
          "text": [
            "[[0.5190806  0.6117401  0.61100936 ... 0.55907565 0.5970952  0.64601773]\n",
            " [0.5106323  0.6023493  0.6009021  ... 0.5598372  0.59106    0.6376522 ]\n",
            " [0.4937356  0.5835675  0.5806875  ... 0.56136036 0.57898957 0.62092113]\n",
            " ...\n",
            " [0.33339486 0.36320707 0.36959282 ... 0.35879532 0.35991248 0.36585495]\n",
            " [0.29144675 0.3354162  0.3343425  ... 0.2977531  0.31352156 0.31491715]\n",
            " [0.27047268 0.32152075 0.31671736 ... 0.26723197 0.29032612 0.28944823]]\n",
            "breath\n"
          ]
        },
        {
          "output_type": "execute_result",
          "data": {
            "text/plain": [
              "<matplotlib.collections.QuadMesh at 0x7a1b7c5341d0>"
            ]
          },
          "metadata": {},
          "execution_count": 15
        },
        {
          "output_type": "display_data",
          "data": {
            "text/plain": [
              "<Figure size 640x480 with 1 Axes>"
            ],
            "image/png": "[encoded data removed]"
          },
          "metadata": {}
        }
      ]
    },
    {
      "cell_type": "code",
      "source": [
        "# len(os.listdir(\"/content/mel_spectrograms\"))\n",
        "# files= [f for f in os.listdir(\"/content/mel_spectrograms\") if f.endswith('.npy')]"
      ],
      "metadata": {
        "id": "miJvD10DOpiO"
      },
      "execution_count": 16,
      "outputs": []
    },
    {
      "cell_type": "code",
      "source": [
        "# files[0].split('_')[1]\n",
        "# filepath = os.path.join(\"/content/mel_spectrograms/\", files[0])\n",
        "# print(filepath)"
      ],
      "metadata": {
        "id": "VhC69qvOPjrJ"
      },
      "execution_count": 17,
      "outputs": []
    },
    {
      "cell_type": "code",
      "source": [
        "class NonSpeech(Dataset):\n",
        "  def __init__(self, mel_dir):\n",
        "    self.mel_dir = mel_dir # /content/mel_spectrograms/\n",
        "    self.files = [f for f in os.listdir(self.mel_dir) if f.endswith('.npy')]\n",
        "\n",
        "  def __len__(self):\n",
        "    return len(self.files)\n",
        "\n",
        "  def __getitem__(self, idx):\n",
        "    filename = self.files[idx]\n",
        "    filepath = os.path.join(self.mel_dir, filename)\n",
        "    img = np.load(filepath)\n",
        "    img = torch.from_numpy(img).float()\n",
        "    img = img.repeat(3, 1, 1)\n",
        "\n",
        "    label = torch.tensor(int(filename.split('_')[1]), dtype = torch.long)\n",
        "\n",
        "    return img, label"
      ],
      "metadata": {
        "id": "fUN4_tdmMbIp"
      },
      "execution_count": 18,
      "outputs": []
    },
    {
      "cell_type": "code",
      "source": [
        "NonSpeechDs = NonSpeech(config.out_dir)"
      ],
      "metadata": {
        "id": "rcpTB2Y_SMbd"
      },
      "execution_count": 19,
      "outputs": []
    },
    {
      "cell_type": "code",
      "source": [
        "train_size = int(0.8 * len(NonSpeechDs))\n",
        "val_size = len(NonSpeechDs) - train_size\n",
        "NonSpeech_train, NonSpeech_val = random_split(NonSpeechDs, [train_size, val_size])"
      ],
      "metadata": {
        "id": "pU-ESBzjSlaJ"
      },
      "execution_count": 20,
      "outputs": []
    },
    {
      "cell_type": "code",
      "source": [
        "batch_size=8\n",
        "train_load = DataLoader(NonSpeech_train, batch_size=batch_size, shuffle=True, num_workers=2, pin_memory=True)\n",
        "val_load = DataLoader(NonSpeech_val, batch_size=batch_size, shuffle=False, num_workers=2, pin_memory=True)"
      ],
      "metadata": {
        "id": "qWWrYSzNS_mB"
      },
      "execution_count": 21,
      "outputs": []
    },
    {
      "cell_type": "code",
      "source": [
        "from torchvision.models import efficientnet_v2_m, EfficientNet_V2_M_Weights\n",
        "import torch.nn as nn"
      ],
      "metadata": {
        "id": "ZORKNzqsWf4o"
      },
      "execution_count": 22,
      "outputs": []
    },
    {
      "cell_type": "code",
      "source": [
        "class NonSpeechModel(nn.Module):\n",
        "  def __init__(self, n_labels):\n",
        "    super().__init__()\n",
        "    base = efficientnet_v2_m(weights=EfficientNet_V2_M_Weights.DEFAULT)\n",
        "    self.features = base.features\n",
        "    self.avg_pool = base.avgpool\n",
        "    self.classifier = nn.Linear(base.classifier[1].in_features, n_labels)\n",
        "  def forward(self, x):\n",
        "    x = self.features(x)\n",
        "    x = self.avg_pool(x)\n",
        "    x = x.view(x.size(0), -1)\n",
        "    return self.classifier(x)"
      ],
      "metadata": {
        "id": "o7s3Ui1AXV9b"
      },
      "execution_count": 23,
      "outputs": []
    },
    {
      "cell_type": "code",
      "source": [
        "model = NonSpeechModel(n_labels).to(device)"
      ],
      "metadata": {
        "colab": {
          "base_uri": "https://localhost:8080/"
        },
        "id": "6BA74BK2YiSf",
        "outputId": "cb5bf02b-e653-4fb9-ce0a-da4864e00683"
      },
      "execution_count": 24,
      "outputs": [
        {
          "output_type": "stream",
          "name": "stderr",
          "text": [
            "Downloading: \"https://download.pytorch.org/models/efficientnet_v2_m-dc08266a.pth\" to /root/.cache/torch/hub/checkpoints/efficientnet_v2_m-dc08266a.pth\n",
            "100%|██████████| 208M/208M [00:01<00:00, 169MB/s]\n"
          ]
        }
      ]
    },
    {
      "cell_type": "code",
      "source": [
        "# from torchsummary import summary\n",
        "# summary(model, (3, 256, 256))"
      ],
      "metadata": {
        "id": "oI-r6kWGYlej"
      },
      "execution_count": 25,
      "outputs": []
    },
    {
      "cell_type": "code",
      "source": [
        "lr = 1e-4\n",
        "criterion = nn.CrossEntropyLoss()\n",
        "optimizer = torch.optim.Adam(model.parameters(), lr=lr)\n",
        "scheduler = torch.optim.lr_scheduler.ReduceLROnPlateau(optimizer, mode='min', factor=0.5, patience=5)"
      ],
      "metadata": {
        "id": "FNmg31YyYy49"
      },
      "execution_count": 26,
      "outputs": []
    },
    {
      "cell_type": "code",
      "source": [
        "from torch.cuda.amp import autocast, GradScaler\n",
        "def train(model, train_load, optimizer, scheduler, criterion, n_epochs=50):\n",
        "  losses = []\n",
        "  accuracies = []\n",
        "  scaler = GradScaler()\n",
        "  for epoch in range(n_epochs):\n",
        "    model.train()\n",
        "    running_loss = 0.0\n",
        "    correct = 0\n",
        "    total = 0\n",
        "    for sample, label in tqdm(train_load, total=len(train_load)):\n",
        "      sample = sample.to(device)\n",
        "      label = label.to(device)\n",
        "\n",
        "      optimizer.zero_grad()\n",
        "\n",
        "      with autocast():\n",
        "        yhat = model(sample)\n",
        "        loss = criterion(yhat, label)\n",
        "\n",
        "      scaler.scale(loss).backward()\n",
        "      scaler.step(optimizer)\n",
        "      scaler.update()\n",
        "\n",
        "      # loss.backward()\n",
        "      # optimizer.step()\n",
        "\n",
        "      running_loss += loss.item() * sample.size(0)\n",
        "\n",
        "      preds = torch.argmax(yhat, dim=1)\n",
        "      correct += (preds == label).sum().item()\n",
        "      total += label.size(0)\n",
        "\n",
        "    epoch_loss = running_loss / len(train_load.dataset)\n",
        "    epoch_acc = correct / total\n",
        "\n",
        "    losses.append(epoch_loss)\n",
        "    accuracies.append(epoch_acc)\n",
        "    scheduler.step(losses[-1])\n",
        "    print(f'Epoch {epoch+1}/{n_epochs} - Loss: {epoch_loss:.4f}, Accuracy: {epoch_acc:.4f}')\n",
        "  return losses, accuracies"
      ],
      "metadata": {
        "id": "fUt5vMT0Y7Ok"
      },
      "execution_count": 27,
      "outputs": []
    },
    {
      "cell_type": "code",
      "source": [
        "losses, accuracies = train(model, train_load, optimizer, scheduler, criterion, n_epochs=10)\n",
        "losses, accuracies"
      ],
      "metadata": {
        "colab": {
          "base_uri": "https://localhost:8080/"
        },
        "id": "0_Z99faIdXC-",
        "outputId": "7d2ee394-3ff0-49a5-ef0e-8730fbbab9f9"
      },
      "execution_count": 28,
      "outputs": [
        {
          "output_type": "stream",
          "name": "stderr",
          "text": [
            "<ipython-input-27-efc381bdb7c6>:5: FutureWarning: `torch.cuda.amp.GradScaler(args...)` is deprecated. Please use `torch.amp.GradScaler('cuda', args...)` instead.\n",
            "  scaler = GradScaler()\n",
            "  0%|          | 0/629 [00:00<?, ?it/s]<ipython-input-27-efc381bdb7c6>:17: FutureWarning: `torch.cuda.amp.autocast(args...)` is deprecated. Please use `torch.amp.autocast('cuda', args...)` instead.\n",
            "  with autocast():\n",
            "100%|██████████| 629/629 [01:52<00:00,  5.58it/s]\n"
          ]
        },
        {
          "output_type": "stream",
          "name": "stdout",
          "text": [
            "Epoch 1/10 - Loss: 0.7232, Accuracy: 0.7517\n"
          ]
        },
        {
          "output_type": "stream",
          "name": "stderr",
          "text": [
            "100%|██████████| 629/629 [01:50<00:00,  5.67it/s]\n"
          ]
        },
        {
          "output_type": "stream",
          "name": "stdout",
          "text": [
            "Epoch 2/10 - Loss: 0.3394, Accuracy: 0.8883\n"
          ]
        },
        {
          "output_type": "stream",
          "name": "stderr",
          "text": [
            "100%|██████████| 629/629 [01:50<00:00,  5.67it/s]\n"
          ]
        },
        {
          "output_type": "stream",
          "name": "stdout",
          "text": [
            "Epoch 3/10 - Loss: 0.2081, Accuracy: 0.9310\n"
          ]
        },
        {
          "output_type": "stream",
          "name": "stderr",
          "text": [
            "100%|██████████| 629/629 [01:49<00:00,  5.72it/s]\n"
          ]
        },
        {
          "output_type": "stream",
          "name": "stdout",
          "text": [
            "Epoch 4/10 - Loss: 0.1200, Accuracy: 0.9616\n"
          ]
        },
        {
          "output_type": "stream",
          "name": "stderr",
          "text": [
            "100%|██████████| 629/629 [01:51<00:00,  5.66it/s]\n"
          ]
        },
        {
          "output_type": "stream",
          "name": "stdout",
          "text": [
            "Epoch 5/10 - Loss: 0.1085, Accuracy: 0.9652\n"
          ]
        },
        {
          "output_type": "stream",
          "name": "stderr",
          "text": [
            "100%|██████████| 629/629 [01:50<00:00,  5.69it/s]\n"
          ]
        },
        {
          "output_type": "stream",
          "name": "stdout",
          "text": [
            "Epoch 6/10 - Loss: 0.0796, Accuracy: 0.9756\n"
          ]
        },
        {
          "output_type": "stream",
          "name": "stderr",
          "text": [
            "100%|██████████| 629/629 [01:52<00:00,  5.60it/s]\n"
          ]
        },
        {
          "output_type": "stream",
          "name": "stdout",
          "text": [
            "Epoch 7/10 - Loss: 0.0715, Accuracy: 0.9775\n"
          ]
        },
        {
          "output_type": "stream",
          "name": "stderr",
          "text": [
            "100%|██████████| 629/629 [01:49<00:00,  5.72it/s]\n"
          ]
        },
        {
          "output_type": "stream",
          "name": "stdout",
          "text": [
            "Epoch 8/10 - Loss: 0.0732, Accuracy: 0.9759\n"
          ]
        },
        {
          "output_type": "stream",
          "name": "stderr",
          "text": [
            "100%|██████████| 629/629 [01:51<00:00,  5.64it/s]\n"
          ]
        },
        {
          "output_type": "stream",
          "name": "stdout",
          "text": [
            "Epoch 9/10 - Loss: 0.0680, Accuracy: 0.9795\n"
          ]
        },
        {
          "output_type": "stream",
          "name": "stderr",
          "text": [
            "100%|██████████| 629/629 [01:50<00:00,  5.71it/s]"
          ]
        },
        {
          "output_type": "stream",
          "name": "stdout",
          "text": [
            "Epoch 10/10 - Loss: 0.0587, Accuracy: 0.9815\n"
          ]
        },
        {
          "output_type": "stream",
          "name": "stderr",
          "text": [
            "\n"
          ]
        },
        {
          "output_type": "execute_result",
          "data": {
            "text/plain": [
              "([0.7231720658117297,\n",
              "  0.339369181727965,\n",
              "  0.20813466135032596,\n",
              "  0.12004665652176325,\n",
              "  0.1084851712237246,\n",
              "  0.079570748962653,\n",
              "  0.07153010448687855,\n",
              "  0.07322692221847513,\n",
              "  0.06801324456103058,\n",
              "  0.05874912486722812],\n",
              " [0.7517392168554959,\n",
              "  0.8882925859670046,\n",
              "  0.9310276287020474,\n",
              "  0.9616378453587756,\n",
              "  0.9652156628900815,\n",
              "  0.975551580202743,\n",
              "  0.9775392566090241,\n",
              "  0.9759491154839992,\n",
              "  0.9795269330153051,\n",
              "  0.9815146094215862])"
            ]
          },
          "metadata": {},
          "execution_count": 28
        }
      ]
    },
    {
      "cell_type": "code",
      "source": [
        "plt.plot(losses)\n",
        "plt.show()"
      ],
      "metadata": {
        "id": "ALB98Lmkdlz6",
        "colab": {
          "base_uri": "https://localhost:8080/",
          "height": 430
        },
        "outputId": "60287b0e-10c4-4831-eb02-07024db026f8"
      },
      "execution_count": 29,
      "outputs": [
        {
          "output_type": "display_data",
          "data": {
            "text/plain": [
              "<Figure size 640x480 with 1 Axes>"
            ],
            "image/png": "[encoded data removed]"
          },
          "metadata": {}
        }
      ]
    },
    {
      "cell_type": "code",
      "source": [
        "plt.plot(accuracies)\n",
        "plt.show()"
      ],
      "metadata": {
        "id": "UDduGH8SjRj3",
        "colab": {
          "base_uri": "https://localhost:8080/",
          "height": 430
        },
        "outputId": "f5bb0e52-ba38-41df-ff4a-ad6eacebab47"
      },
      "execution_count": 30,
      "outputs": [
        {
          "output_type": "display_data",
          "data": {
            "text/plain": [
              "<Figure size 640x480 with 1 Axes>"
            ],
            "image/png": "[encoded data removed]"
          },
          "metadata": {}
        }
      ]
    },
    {
      "cell_type": "code",
      "source": [],
      "metadata": {
        "id": "RjS3pi6sjTvA",
        "colab": {
          "base_uri": "https://localhost:8080/"
        },
        "outputId": "0214d948-6534-4f1c-dd78-8d2019e551f9"
      },
      "execution_count": 37,
      "outputs": [
        {
          "output_type": "stream",
          "name": "stdout",
          "text": [
            "total 2480556\n",
            "drwxr-xr-x 1 root root       4096 May 13 12:05  \u001b[0m\u001b[01;34m.\u001b[0m/\n",
            "drwxr-xr-x 1 root root       4096 May 13 11:59  \u001b[01;34m..\u001b[0m/\n",
            "drwxr-xr-x 4 root root       4096 May  9 13:41  \u001b[01;34m.config\u001b[0m/\n",
            "drwx------ 6 root root       4096 May 13 12:04  \u001b[01;34mdrive\u001b[0m/\n",
            "drwxr-xr-x 2 root root       4096 May 13 12:05  \u001b[01;34m.ipynb_checkpoints\u001b[0m/\n",
            "drwxr-xr-x 2 root root     253952 May 13 12:10  \u001b[01;34mmel_spectrograms\u001b[0m/\n",
            "-rw------- 1 root root      51845 May 12 10:25 'metadata of test set.csv'\n",
            "-rw------- 1 root root     478461 May 12 10:25 'metadata of train set .csv'\n",
            "drwxr-xr-x 1 root root       4096 May  9 13:41  \u001b[01;34msample_data\u001b[0m/\n",
            "-rw------- 1 root root  221775350 May 12 10:23  test.zip\n",
            "drwxr-xr-x 2 root root     274432 May 13 12:06  \u001b[01;34mtrain\u001b[0m/\n",
            "-rw------- 1 root root 2317217784 May 12 10:08  train.zip\n",
            "-rw------- 1 root root       1363 May 12 10:23 'youtube ID vs link .TXT'\n"
          ]
        }
      ]
    },
    {
      "cell_type": "code",
      "source": [
        "!du -sh mel_spectrograms/"
      ],
      "metadata": {
        "colab": {
          "base_uri": "https://localhost:8080/"
        },
        "id": "mRkflUQwkv6g",
        "outputId": "1cb09bfb-fcc8-4978-d373-2c729f99dc27"
      },
      "execution_count": 31,
      "outputs": [
        {
          "output_type": "stream",
          "name": "stdout",
          "text": [
            "1.6G\tmel_spectrograms/\n"
          ]
        }
      ]
    },
    {
      "cell_type": "code",
      "source": [
        "def evaluate(model, val_load, criterion):\n",
        "  model.eval()\n",
        "  running_loss = 0.0\n",
        "  correct, total = 0, 0\n",
        "  with torch.no_grad():\n",
        "    for sample, label in tqdm(val_load, total = len(val_load)):\n",
        "      sample = sample.to(device)\n",
        "      label = label.to(device)\n",
        "\n",
        "      with autocast():\n",
        "        yhat = model(sample)\n",
        "        loss = criterion(yhat, label)\n",
        "\n",
        "      running_loss += loss.item() * sample.size(0)\n",
        "      preds = torch.argmax(yhat, dim=1)\n",
        "      correct += (preds == label).sum().item()\n",
        "      total += label.size(0)\n",
        "    val_loss = running_loss / len(val_load.dataset)\n",
        "    val_acc = correct / total\n",
        "  return val_loss, val_acc\n",
        "\n",
        "loss, accuracy = evaluate(model, val_load, criterion)"
      ],
      "metadata": {
        "colab": {
          "base_uri": "https://localhost:8080/"
        },
        "id": "3TLfIRDOk2Us",
        "outputId": "58412b82-b284-4e89-a933-77f47586184b"
      },
      "execution_count": 32,
      "outputs": [
        {
          "output_type": "stream",
          "name": "stderr",
          "text": [
            "\r  0%|          | 0/158 [00:00<?, ?it/s]<ipython-input-32-2f016de9c055>:10: FutureWarning: `torch.cuda.amp.autocast(args...)` is deprecated. Please use `torch.amp.autocast('cuda', args...)` instead.\n",
            "  with autocast():\n",
            "100%|██████████| 158/158 [00:09<00:00, 16.67it/s]\n"
          ]
        }
      ]
    },
    {
      "cell_type": "code",
      "source": [
        "print(loss, accuracy)"
      ],
      "metadata": {
        "colab": {
          "base_uri": "https://localhost:8080/"
        },
        "id": "D4azPdbM3zoc",
        "outputId": "f6bea840-f411-4180-d2bf-df5e02ba5af1"
      },
      "execution_count": 33,
      "outputs": [
        {
          "output_type": "stream",
          "name": "stdout",
          "text": [
            "0.3504360865902256 0.9038155802861685\n"
          ]
        }
      ]
    },
    {
      "cell_type": "code",
      "source": [
        "torch.save(model.state_dict(), \"model01.pth\")"
      ],
      "metadata": {
        "id": "2w2VhOi336oK"
      },
      "execution_count": 34,
      "outputs": []
    },
    {
      "cell_type": "code",
      "source": [],
      "metadata": {
        "id": "y1Mbhcv64ncv"
      },
      "execution_count": null,
      "outputs": []
    }
  ]
}